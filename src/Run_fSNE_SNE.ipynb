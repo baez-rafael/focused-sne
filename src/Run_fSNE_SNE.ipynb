{
  "cells": [
    {
      "cell_type": "code",
      "source": [
        "!wget -N -c https://www.dropbox.com/s/14jrt3vexb6kn2l/Wine_fSNE_SNE.zip\n",
        "!unzip Wine_fSNE_SNE.zip"
      ],
      "metadata": {
        "colab": {
          "base_uri": "https://localhost:8080/"
        },
        "id": "4ngoXofnZiBF",
        "outputId": "417b5bd3-4985-4815-bcd2-a6d16d3354bc"
      },
      "execution_count": null,
      "outputs": [
        {
          "output_type": "stream",
          "name": "stdout",
          "text": [
            "--2022-08-12 00:13:38--  https://www.dropbox.com/s/14jrt3vexb6kn2l/Wine_fSNE_SNE.zip\n",
            "Resolving www.dropbox.com (www.dropbox.com)... 162.125.1.18, 2620:100:6016:18::a27d:112\n",
            "Connecting to www.dropbox.com (www.dropbox.com)|162.125.1.18|:443... connected.\n",
            "HTTP request sent, awaiting response... 301 Moved Permanently\n",
            "Location: /s/raw/14jrt3vexb6kn2l/Wine_fSNE_SNE.zip [following]\n",
            "--2022-08-12 00:13:38--  https://www.dropbox.com/s/raw/14jrt3vexb6kn2l/Wine_fSNE_SNE.zip\n",
            "Reusing existing connection to www.dropbox.com:443.\n",
            "HTTP request sent, awaiting response... 302 Found\n",
            "Location: https://uc9e2b706120d07cf529b89a6b81.dl.dropboxusercontent.com/cd/0/inline/Bq3LRCXZWChZSamFufQM040V61y19p1904ffftEpoe5qHRoiMy-ZEzWaOCiXDNyi86W2KEKo9v5R0cvirNDkSypl5862nZe2oStz8Zp08bVxd5VQmLmZDssxH_o16-PZmqGIPhNPd6S8WyNG-P0wnVE-yEzFnhKkt1mcr-qjpLPV1A/file# [following]\n",
            "--2022-08-12 00:13:38--  https://uc9e2b706120d07cf529b89a6b81.dl.dropboxusercontent.com/cd/0/inline/Bq3LRCXZWChZSamFufQM040V61y19p1904ffftEpoe5qHRoiMy-ZEzWaOCiXDNyi86W2KEKo9v5R0cvirNDkSypl5862nZe2oStz8Zp08bVxd5VQmLmZDssxH_o16-PZmqGIPhNPd6S8WyNG-P0wnVE-yEzFnhKkt1mcr-qjpLPV1A/file\n",
            "Resolving uc9e2b706120d07cf529b89a6b81.dl.dropboxusercontent.com (uc9e2b706120d07cf529b89a6b81.dl.dropboxusercontent.com)... 162.125.1.15, 2620:100:6016:15::a27d:10f\n",
            "Connecting to uc9e2b706120d07cf529b89a6b81.dl.dropboxusercontent.com (uc9e2b706120d07cf529b89a6b81.dl.dropboxusercontent.com)|162.125.1.15|:443... connected.\n",
            "HTTP request sent, awaiting response... 302 Found\n",
            "Location: /cd/0/inline2/Bq1J7nHFIemcGeHg_w7LgesWvtUFIqXxLUrTQEgVevtcAoZ1TyFKNts6TW4LzqfGnpRpfSkGj7EjfkKbKk94eDHQY-XOzxDJmAaFbTtoXelFoqoYqhX97UFgx-IHLARSk98eoywXJrtE5xGvz_VGIhicFOGmXeUJCBSHRJrqqEPldIaeXGzGKfQcvLr-nagj2_Pc8gDWTvWwrOB_jRY7mKrjyGl6ZUH-GkYkNTs2pVfrm3MNytyu8k_noui5Xxg567ZqeIy635X82Dl1oPHKwoqF9DM-XxNCnF0Xi4p6Rf7_hz4_W9mLFtbdAg5eXC-snGfJa5Q_uuNGQyUou_IvWaPyxA57uV4tMa9l8bNfRPhh868lln8nkku0dXOj0A5pIFss8PdbDZnPj1ppDl7U3fTQcwSyshG2oytggebYdynwOQ/file [following]\n",
            "--2022-08-12 00:13:39--  https://uc9e2b706120d07cf529b89a6b81.dl.dropboxusercontent.com/cd/0/inline2/Bq1J7nHFIemcGeHg_w7LgesWvtUFIqXxLUrTQEgVevtcAoZ1TyFKNts6TW4LzqfGnpRpfSkGj7EjfkKbKk94eDHQY-XOzxDJmAaFbTtoXelFoqoYqhX97UFgx-IHLARSk98eoywXJrtE5xGvz_VGIhicFOGmXeUJCBSHRJrqqEPldIaeXGzGKfQcvLr-nagj2_Pc8gDWTvWwrOB_jRY7mKrjyGl6ZUH-GkYkNTs2pVfrm3MNytyu8k_noui5Xxg567ZqeIy635X82Dl1oPHKwoqF9DM-XxNCnF0Xi4p6Rf7_hz4_W9mLFtbdAg5eXC-snGfJa5Q_uuNGQyUou_IvWaPyxA57uV4tMa9l8bNfRPhh868lln8nkku0dXOj0A5pIFss8PdbDZnPj1ppDl7U3fTQcwSyshG2oytggebYdynwOQ/file\n",
            "Reusing existing connection to uc9e2b706120d07cf529b89a6b81.dl.dropboxusercontent.com:443.\n",
            "HTTP request sent, awaiting response... 200 OK\n",
            "Length: 316335 (309K) [application/zip]\n",
            "Saving to: ‘Wine_fSNE_SNE.zip’\n",
            "\n",
            "Wine_fSNE_SNE.zip   100%[===================>] 308.92K  --.-KB/s    in 0.02s   \n",
            "\n",
            "Last-modified header missing -- time-stamps turned off.\n",
            "2022-08-12 00:13:39 (14.6 MB/s) - ‘Wine_fSNE_SNE.zip’ saved [316335/316335]\n",
            "\n",
            "Archive:  Wine_fSNE_SNE.zip\n",
            "  inflating: Wine1.npy               \n",
            "  inflating: Wine2.npy               \n",
            "  inflating: Wine3.npy               \n"
          ]
        }
      ]
    },
    {
      "cell_type": "code",
      "source": [
        "!wget -N -c https://www.dropbox.com/s/0uote70nw2nj1ff/20News_fSNE_SNE.zip\n",
        "!unzip 20News_fSNE_SNE.zip"
      ],
      "metadata": {
        "colab": {
          "base_uri": "https://localhost:8080/"
        },
        "id": "rT9XnO0ea7nG",
        "outputId": "4120c23f-f5e5-42f6-d943-fbf7e303fd9a"
      },
      "execution_count": null,
      "outputs": [
        {
          "output_type": "stream",
          "name": "stdout",
          "text": [
            "--2022-08-12 00:57:33--  https://www.dropbox.com/s/0uote70nw2nj1ff/20News_fSNE_SNE.zip\n",
            "Resolving www.dropbox.com (www.dropbox.com)... 162.125.5.18, 2620:100:601b:18::a27d:812\n",
            "Connecting to www.dropbox.com (www.dropbox.com)|162.125.5.18|:443... connected.\n",
            "HTTP request sent, awaiting response... 301 Moved Permanently\n",
            "Location: /s/raw/0uote70nw2nj1ff/20News_fSNE_SNE.zip [following]\n",
            "--2022-08-12 00:57:33--  https://www.dropbox.com/s/raw/0uote70nw2nj1ff/20News_fSNE_SNE.zip\n",
            "Reusing existing connection to www.dropbox.com:443.\n",
            "HTTP request sent, awaiting response... 302 Found\n",
            "Location: https://uc8c743bdfd9e6c97884ca9eea02.dl.dropboxusercontent.com/cd/0/inline/Bq26x1zeeefLToflVh16LHp5qVokTVH7eKcKunTFeU-WMdzcls_WXkLYW7DdQKy8N9osi-focx0MX2Ecu7wY3lggS3ZdZ4sGpMTO-ER2wBB_7TgnFRu8m_bqbefWgigiA2htvbGW27tab-5uAYY9_SlZFjz7bW6Hg5YWpCT0ZtIHJA/file# [following]\n",
            "--2022-08-12 00:57:33--  https://uc8c743bdfd9e6c97884ca9eea02.dl.dropboxusercontent.com/cd/0/inline/Bq26x1zeeefLToflVh16LHp5qVokTVH7eKcKunTFeU-WMdzcls_WXkLYW7DdQKy8N9osi-focx0MX2Ecu7wY3lggS3ZdZ4sGpMTO-ER2wBB_7TgnFRu8m_bqbefWgigiA2htvbGW27tab-5uAYY9_SlZFjz7bW6Hg5YWpCT0ZtIHJA/file\n",
            "Resolving uc8c743bdfd9e6c97884ca9eea02.dl.dropboxusercontent.com (uc8c743bdfd9e6c97884ca9eea02.dl.dropboxusercontent.com)... 162.125.5.15, 2620:100:601d:15::a27d:50f\n",
            "Connecting to uc8c743bdfd9e6c97884ca9eea02.dl.dropboxusercontent.com (uc8c743bdfd9e6c97884ca9eea02.dl.dropboxusercontent.com)|162.125.5.15|:443... connected.\n",
            "HTTP request sent, awaiting response... 302 Found\n",
            "Location: /cd/0/inline2/Bq3wFKcNchhZ1XBbgSlgn-trpGfbSBVrZuPNHbiaP_5UQtIKiUH1VCKv71WBPuh-2lh3oWGYkJ9L6sNU3tj2VIPA0xQ_qBGiaC_KMVgnW9DBLEcw_O0tbXPpO6U6rHtQycy67lXixwkMXnG-mZtyrcghADnVqwxM5-OrHtBtwg9uHQ_XjQkvOvq-UPnXMyMsm7yiVRFl6wD7jI5PUqv83AlGWzANwIBVNai8PVXFIE3h0qL5YFBrbpdcxG13eOozH1JqD32myyRQijNswKdLOfkMZu7xL-g2RpPZI1D9SDxV4qZ8bPIimMfZOta_ilHye_uKevPAhvy8vZVwxQ5TJsbLKUiqQ6C4Y_8YlyaSnomURyKz_pgWyL7J2jqCAyvzAMzYU_rvzrXdrwj_URjBHpp7II7Ae4Z2OjOsRHzrcGQvNQ/file [following]\n",
            "--2022-08-12 00:57:34--  https://uc8c743bdfd9e6c97884ca9eea02.dl.dropboxusercontent.com/cd/0/inline2/Bq3wFKcNchhZ1XBbgSlgn-trpGfbSBVrZuPNHbiaP_5UQtIKiUH1VCKv71WBPuh-2lh3oWGYkJ9L6sNU3tj2VIPA0xQ_qBGiaC_KMVgnW9DBLEcw_O0tbXPpO6U6rHtQycy67lXixwkMXnG-mZtyrcghADnVqwxM5-OrHtBtwg9uHQ_XjQkvOvq-UPnXMyMsm7yiVRFl6wD7jI5PUqv83AlGWzANwIBVNai8PVXFIE3h0qL5YFBrbpdcxG13eOozH1JqD32myyRQijNswKdLOfkMZu7xL-g2RpPZI1D9SDxV4qZ8bPIimMfZOta_ilHye_uKevPAhvy8vZVwxQ5TJsbLKUiqQ6C4Y_8YlyaSnomURyKz_pgWyL7J2jqCAyvzAMzYU_rvzrXdrwj_URjBHpp7II7Ae4Z2OjOsRHzrcGQvNQ/file\n",
            "Reusing existing connection to uc8c743bdfd9e6c97884ca9eea02.dl.dropboxusercontent.com:443.\n",
            "HTTP request sent, awaiting response... 200 OK\n",
            "Length: 46515165 (44M) [application/zip]\n",
            "Saving to: ‘20News_fSNE_SNE.zip’\n",
            "\n",
            "20News_fSNE_SNE.zip 100%[===================>]  44.36M  60.7MB/s    in 0.7s    \n",
            "\n",
            "Last-modified header missing -- time-stamps turned off.\n",
            "2022-08-12 00:57:35 (60.7 MB/s) - ‘20News_fSNE_SNE.zip’ saved [46515165/46515165]\n",
            "\n",
            "Archive:  20News_fSNE_SNE.zip\n",
            "  inflating: 20News1.npy             \n",
            "  inflating: 20News2.npy             \n",
            "  inflating: 20News3.npy             \n"
          ]
        }
      ]
    },
    {
      "cell_type": "code",
      "source": [
        "!wget -N -c https://www.dropbox.com/s/29t5evr9nfzbny8/mnist5000_fSNE_SNE.zip\n",
        "!unzip mnist5000_fSNE_SNE.zip"
      ],
      "metadata": {
        "colab": {
          "base_uri": "https://localhost:8080/"
        },
        "id": "YpfvKfR1a9HL",
        "outputId": "39e984fc-9acd-477f-d840-76427add6780"
      },
      "execution_count": null,
      "outputs": [
        {
          "output_type": "stream",
          "name": "stdout",
          "text": [
            "--2022-08-12 00:26:06--  https://www.dropbox.com/s/29t5evr9nfzbny8/mnist5000_fSNE_SNE.zip\n",
            "Resolving www.dropbox.com (www.dropbox.com)... 162.125.1.18, 2620:100:6016:18::a27d:112\n",
            "Connecting to www.dropbox.com (www.dropbox.com)|162.125.1.18|:443... connected.\n",
            "HTTP request sent, awaiting response... 301 Moved Permanently\n",
            "Location: /s/raw/29t5evr9nfzbny8/mnist5000_fSNE_SNE.zip [following]\n",
            "--2022-08-12 00:26:06--  https://www.dropbox.com/s/raw/29t5evr9nfzbny8/mnist5000_fSNE_SNE.zip\n",
            "Reusing existing connection to www.dropbox.com:443.\n",
            "HTTP request sent, awaiting response... 302 Found\n",
            "Location: https://ucdde1efadbb5e626a8ac504838c.dl.dropboxusercontent.com/cd/0/inline/Bq2uJCgToaxXNAzwLx8ECO1tjUHm7PLoy78QpvHXQ3O2vH8T-HdVYd0NHw9K1K0pI1cwPcWQZDJ2JaWEA4aAeIll8aizlezuzd3tmQZGqQGORwJ5dj0PQqBmDrq_r_JXBj1vHvO3hZEparwUXowVnsVkCExdv_fWOgcP_w8Q-pkehw/file# [following]\n",
            "--2022-08-12 00:26:06--  https://ucdde1efadbb5e626a8ac504838c.dl.dropboxusercontent.com/cd/0/inline/Bq2uJCgToaxXNAzwLx8ECO1tjUHm7PLoy78QpvHXQ3O2vH8T-HdVYd0NHw9K1K0pI1cwPcWQZDJ2JaWEA4aAeIll8aizlezuzd3tmQZGqQGORwJ5dj0PQqBmDrq_r_JXBj1vHvO3hZEparwUXowVnsVkCExdv_fWOgcP_w8Q-pkehw/file\n",
            "Resolving ucdde1efadbb5e626a8ac504838c.dl.dropboxusercontent.com (ucdde1efadbb5e626a8ac504838c.dl.dropboxusercontent.com)... 162.125.1.15, 2620:100:6016:15::a27d:10f\n",
            "Connecting to ucdde1efadbb5e626a8ac504838c.dl.dropboxusercontent.com (ucdde1efadbb5e626a8ac504838c.dl.dropboxusercontent.com)|162.125.1.15|:443... connected.\n",
            "HTTP request sent, awaiting response... 302 Found\n",
            "Location: /cd/0/inline2/Bq3ldlT5z5ibtQLgadOUC6e_SLszKL-ItomChwCKE1Vaab76YN-u79ZQqs8gT2u5mWZHFAuPi5qwmr1IRFP75kyB6jpsYpQB-tHdaoARvZjAGDRE7ijiGPnZnWQ1A7qJl7-PuwZt7H6cDQWl_rHKV7ViSQ3Oem7pLglMl0Z3gDREE2sntp1vAV3wB5WqUdy2vKjn7k92L5IpTV0rHhLH2QpXzXD3qKic7eQu_oXIhLqx_PuSqO0WHKL65CQ3SUGxlBFZXdiGe6oyb6aWV2U3jMS11rrBXpd_i_E3cyLQ6_xI2RC-w6AL3VbwZ1JGICrV5cvT61oIbfBJk4_QAu97Ci7a5r5TFwb072_SYua8VtvdszZESJEXPk-HA4HSjd45ZgvY9WH4Hagxw9lgTQulr6tq0Dyzgtze5yik679pFdKuqg/file [following]\n",
            "--2022-08-12 00:26:06--  https://ucdde1efadbb5e626a8ac504838c.dl.dropboxusercontent.com/cd/0/inline2/Bq3ldlT5z5ibtQLgadOUC6e_SLszKL-ItomChwCKE1Vaab76YN-u79ZQqs8gT2u5mWZHFAuPi5qwmr1IRFP75kyB6jpsYpQB-tHdaoARvZjAGDRE7ijiGPnZnWQ1A7qJl7-PuwZt7H6cDQWl_rHKV7ViSQ3Oem7pLglMl0Z3gDREE2sntp1vAV3wB5WqUdy2vKjn7k92L5IpTV0rHhLH2QpXzXD3qKic7eQu_oXIhLqx_PuSqO0WHKL65CQ3SUGxlBFZXdiGe6oyb6aWV2U3jMS11rrBXpd_i_E3cyLQ6_xI2RC-w6AL3VbwZ1JGICrV5cvT61oIbfBJk4_QAu97Ci7a5r5TFwb072_SYua8VtvdszZESJEXPk-HA4HSjd45ZgvY9WH4Hagxw9lgTQulr6tq0Dyzgtze5yik679pFdKuqg/file\n",
            "Reusing existing connection to ucdde1efadbb5e626a8ac504838c.dl.dropboxusercontent.com:443.\n",
            "HTTP request sent, awaiting response... 200 OK\n",
            "Length: 10923525 (10M) [application/zip]\n",
            "Saving to: ‘mnist5000_fSNE_SNE.zip’\n",
            "\n",
            "mnist5000_fSNE_SNE. 100%[===================>]  10.42M  --.-KB/s    in 0.08s   \n",
            "\n",
            "Last-modified header missing -- time-stamps turned off.\n",
            "2022-08-12 00:26:07 (127 MB/s) - ‘mnist5000_fSNE_SNE.zip’ saved [10923525/10923525]\n",
            "\n",
            "Archive:  mnist5000_fSNE_SNE.zip\n",
            "  inflating: mnist1.npy              \n",
            "  inflating: mnist2.npy              \n",
            "  inflating: mnist3.npy              \n"
          ]
        }
      ]
    },
    {
      "cell_type": "code",
      "source": [
        "# !wget https://www.dropbox.com/s/dxgt3svdjg3oeju/cifar_batch1_fSNE_SNE.zip\n",
        "# !unzip cifar_batch1_fSNE_SNE.zip"
      ],
      "metadata": {
        "id": "tJoVOB3p98GD"
      },
      "execution_count": null,
      "outputs": []
    },
    {
      "cell_type": "code",
      "source": [
        "#@title function : load / save pickle_obj\n",
        "\n",
        "### pickle\n",
        "\n",
        "import bz2\n",
        "import pickle\n",
        "!pip install pickle5\n",
        "import pickle5\n",
        "import _pickle as cPickle\n",
        "import os\n",
        "import numpy as np\n",
        "import pandas as pd\n",
        "def save_obj(obj, name):\n",
        "    with open(name + '.pkl', 'wb') as f:\n",
        "        pickle.dump(obj, f, pickle.HIGHEST_PROTOCOL)\n",
        "\n",
        "def load_obj(name):\n",
        "    with open(name + '.pkl', 'rb') as f:\n",
        "        return pickle.load(f)\n",
        "\n",
        "def load_obj_pkl5(name):\n",
        "    with open(name + '.pkl', 'rb') as f:\n",
        "        return pickle5.load(f)\n",
        "\n",
        "def compressed_pickle(data,title):\n",
        "  with bz2.BZ2File(title + '.pbz2', 'w') as f:\n",
        "    cPickle.dump(data, f)\n",
        "\n",
        "def decompress_pickle(file):\n",
        " data = bz2.BZ2File(file+'.pbz2', 'rb')\n",
        " data = cPickle.load(data)\n",
        " return data"
      ],
      "metadata": {
        "cellView": "form",
        "id": "qJ6F0q0yoC9c",
        "colab": {
          "base_uri": "https://localhost:8080/"
        },
        "outputId": "54c3f2fb-fd74-41d2-fe59-5a1cbc4cae2e"
      },
      "execution_count": null,
      "outputs": [
        {
          "output_type": "stream",
          "name": "stdout",
          "text": [
            "Looking in indexes: https://pypi.org/simple, https://us-python.pkg.dev/colab-wheels/public/simple/\n",
            "Collecting pickle5\n",
            "  Downloading pickle5-0.0.12-cp37-cp37m-manylinux_2_5_x86_64.manylinux1_x86_64.whl (256 kB)\n",
            "\u001b[K     |████████████████████████████████| 256 kB 5.0 MB/s \n",
            "\u001b[?25hInstalling collected packages: pickle5\n",
            "Successfully installed pickle5-0.0.12\n"
          ]
        }
      ]
    },
    {
      "cell_type": "code",
      "execution_count": null,
      "metadata": {
        "id": "rnV_Si_9ioW4"
      },
      "outputs": [],
      "source": [
        "def load_data(POI_set,dataname):\n",
        "  return dict(np.load('datasets_'+dataname+'_instances_POI_'+POI_set+'.npy',\n",
        "                     allow_pickle=True).item())"
      ]
    },
    {
      "cell_type": "markdown",
      "source": [
        "#fSNE"
      ],
      "metadata": {
        "id": "yS5ixkWy7og0"
      }
    },
    {
      "cell_type": "code",
      "execution_count": null,
      "metadata": {
        "id": "AMBNaETeuCNH"
      },
      "outputs": [],
      "source": [
        "import scipy.spatial.distance\n",
        "import numpy as np\n",
        "import torch\n",
        "import sys\n",
        "from time import time\n",
        "import gc\n",
        "\n",
        "def is_notebook():\n",
        "  try:\n",
        "    shell = get_ipython().__class__.__name__\n",
        "    if shell == 'ZMQInteractiveShell':\n",
        "      return True   # Jupyter notebook or qtconsole\n",
        "    elif shell == 'TerminalInteractiveShell':\n",
        "      return False  # Terminal running IPython\n",
        "    else:\n",
        "      return False  # Other type (?)\n",
        "  except NameError:\n",
        "    return False\n",
        "if is_notebook():\n",
        "    from tqdm.notebook import tqdm\n",
        "else:\n",
        "    from tqdm import tqdm\n",
        "\n",
        "def _quickDistSquare(X):\n",
        "    X = X.cpu().numpy()\n",
        "    aux = scipy.spatial.distance.pdist(X,'minkowski', p=2)\n",
        "    D = scipy.spatial.distance.squareform(aux)\n",
        "    return D**2\n",
        "def Hbeta_torch(D, beta=1.0):\n",
        "    P = torch.exp(-D.clone() * beta)\n",
        "    sumP = torch.sum(P)\n",
        "\n",
        "    H = torch.log(sumP) + beta * torch.sum(D * P) / sumP\n",
        "    P = P / sumP\n",
        "    return H, P\n",
        "# https://github.com/mxl1990/tsne-pytorch\n",
        "def x2p_torch(X, tol=1e-5, perplexity=30.0):\n",
        "    \"\"\"\n",
        "        Performs a binary search to get P-values in such a way that each\n",
        "        conditional Gaussian has the same perplexity.\n",
        "    \"\"\"\n",
        "\n",
        "    # Initialize some variables\n",
        "    # print(\"Computing pairwise distances...\")\n",
        "    (n, d) = X.shape\n",
        "\n",
        "    X = torch.from_numpy(X)\n",
        "    sum_X = torch.sum(X*X, 1)\n",
        "    D = torch.add(torch.add(-2 * torch.mm(X, X.t()), sum_X).t(), sum_X)\n",
        "\n",
        "    P = torch.zeros(n, n)\n",
        "    beta = torch.ones(n, 1)\n",
        "    logU = torch.log(torch.tensor([perplexity]))\n",
        "    n_list = [i for i in range(n)]\n",
        "\n",
        "    # Loop over all datapoints\n",
        "    for i in range(n):\n",
        "\n",
        "        # Print progress\n",
        "        # if i % 500 == 0:\n",
        "        #     print(\"Computing P-values for point %d of %d...\" % (i, n))\n",
        "\n",
        "        # Compute the Gaussian kernel and entropy for the current precision\n",
        "        # there may be something wrong with this setting None\n",
        "        betamin = None\n",
        "        betamax = None\n",
        "        Di = D[i, n_list[0:i]+n_list[i+1:n]]\n",
        "\n",
        "        (H, thisP) = Hbeta_torch(Di, beta[i])\n",
        "\n",
        "        # Evaluate whether the perplexity is within tolerance\n",
        "        Hdiff = H - logU\n",
        "        tries = 0\n",
        "        while torch.abs(Hdiff) > tol and tries < 50:\n",
        "\n",
        "            # If not, increase or decrease precision\n",
        "            if Hdiff > 0:\n",
        "                betamin = beta[i].clone()\n",
        "                if betamax is None:\n",
        "                    beta[i] = beta[i] * 2.\n",
        "                else:\n",
        "                    beta[i] = (beta[i] + betamax) / 2.\n",
        "            else:\n",
        "                betamax = beta[i].clone()\n",
        "                if betamin is None:\n",
        "                    beta[i] = beta[i] / 2.\n",
        "                else:\n",
        "                    beta[i] = (beta[i] + betamin) / 2.\n",
        "\n",
        "            # Recompute the values\n",
        "            (H, thisP) = Hbeta_torch(Di, beta[i])\n",
        "\n",
        "            Hdiff = H - logU\n",
        "            tries += 1\n",
        "\n",
        "        # Set the final row of P\n",
        "        thisP = thisP.float()\n",
        "        P[i, n_list[0:i]+n_list[i+1:n]] = thisP\n",
        "    del D\n",
        "    del Di\n",
        "    del beta\n",
        "    gc.collect()\n",
        "    # Return final Pc-matrix\n",
        "    return (P+1e-24)\n",
        "def x2q(X, device: torch.device = torch.device(\"cuda\" if torch.cuda.is_available() else \"cpu\")):\n",
        "    #X = torch.from_numpy(X)\n",
        "    sum_X = torch.sum(X*X, 1)\n",
        "    D = torch.add(torch.add(-2 * torch.mm(X, X.t()), sum_X).t(), sum_X)\n",
        "    minusD = D*-1\n",
        "    exp_all = torch.exp(minusD) + 1e-24\n",
        "    exp_all.fill_diagonal_(0)\n",
        "    denom = torch.sum(exp_all, dim = 1)\n",
        "    Q = torch.divide(exp_all, denom)\n",
        "    # D = _quickDistSquare(X)\n",
        "    # minusD = D*-1\n",
        "    # exp_all = np.exp(minusD) + 1e-24\n",
        "    # np.fill_diagonal(exp_all, 0)\n",
        "    # denom = np.sum(exp_all, axis = 1)\n",
        "    # Q = np.divide(exp_all, denom)\n",
        "    # Q = torch.tensor(Q)\n",
        "    del sum_X\n",
        "    del D\n",
        "    del minusD\n",
        "    del exp_all\n",
        "    del denom\n",
        "    gc.collect()\n",
        "    return Q.T\n",
        "\n",
        "class fSNE_torch:\n",
        "    def __init__(self, X, n_comp = 2, lr = 0.1, max_iter = 1000, POI = [0], ES=300, tol=1e-5, perp = 30.0, lambdas = 1):\n",
        "        self.X = X\n",
        "        self.n_comp = n_comp\n",
        "        self.n_samples = X.shape[0]\n",
        "        self.lr = lr\n",
        "        self.max_iter = max_iter\n",
        "        self.POI = POI\n",
        "        self.lambdas = lambdas\n",
        "        self.ES = ES\n",
        "        self.tol = tol\n",
        "        self.perp = perp\n",
        "    def fit_transform(self, verbose = True):\n",
        "        POI = self.POI\n",
        "        lambdas = self.lambdas\n",
        "\n",
        "        notPOI = list(np.delete(np.array([i for i in range(self.n_samples)]),POI))\n",
        "        if isinstance(self.X, np.ndarray):\n",
        "          X = torch.tensor(self.X)\n",
        "        device = torch.device(\"cuda\" if torch.cuda.is_available() else \"cpu\")\n",
        "       # device = \"cpu\"\n",
        "        if verbose:\n",
        "            print(f\"using {device}\", file=sys.stderr)\n",
        "        X = X.to(device)\n",
        "        X_transformed = torch.randn(self.n_samples, self.n_comp, dtype = torch.float64, device = device)\n",
        "        X_updated = torch.zeros(self.n_samples, self.n_comp, dtype = torch.float64, device = device)\n",
        "        p_matrix = x2p_torch(self.X, perplexity = self.perp)\n",
        "        p_matrix = p_matrix.to(device)\n",
        "        update = torch.zeros(self.n_samples, self.n_comp, dtype = torch.float64, device = device)\n",
        "\n",
        "        cache_POI = np.zeros(self.n_samples)\n",
        "        cache_nPOI = np.zeros(self.n_samples)\n",
        "        for i in range(self.n_samples):\n",
        "            cache_POI[i] = np.sum(p_matrix[POI, i].cpu().numpy())\n",
        "        for i in range(self.n_samples):\n",
        "            cache_nPOI[i] = np.sum(p_matrix[notPOI, i].cpu().numpy())\n",
        "        cache_POI = torch.Tensor(cache_POI).to(device)\n",
        "        cache_nPOI = torch.Tensor(cache_nPOI).to(device)\n",
        "        q_matrix = x2q(X_transformed)\n",
        "        q_matrix = q_matrix.to(device)\n",
        "        del X\n",
        "        torch.cuda.empty_cache()\n",
        "        gc.collect()\n",
        "\n",
        "        if self.ES == 0:\n",
        "            lowest_cost = 1e-24\n",
        "        else:\n",
        "            lowest_cost = 1e24\n",
        "        no_progress = 0\n",
        "\n",
        "\n",
        "        bar = range(self.max_iter)\n",
        "        if verbose:\n",
        "          bar = tqdm(bar, position=0, leave=True)\n",
        "        for it in bar:\n",
        "          torch.cuda.empty_cache()\n",
        "          if it < 250:\n",
        "            alpha = 0.5\n",
        "          else:\n",
        "            alpha = 0.8\n",
        "          Y = X_transformed\n",
        "          Yi_minus_Yj = Y.unsqueeze(1) - Y\n",
        "\n",
        "          PQ = (p_matrix - q_matrix) + (p_matrix - q_matrix).T\n",
        "          sneGrad = 2 * lambdas * torch.sum(PQ.unsqueeze(-1) * Yi_minus_Yj, dim = 1)\n",
        "          loop1Grad1 = sneGrad[POI]\n",
        "          loop1Grad2 = (lambdas - 1) * torch.sum(cache_POI[POI].unsqueeze(1) * -2 * q_matrix[POI][:,POI].unsqueeze(-1) * Yi_minus_Yj[POI][:,POI].transpose(1,0), dim = 1)\n",
        "\n",
        "          update[POI] = -(self.lr*(loop1Grad1 + loop1Grad2)) + (alpha * update[POI])\n",
        "          aux = X_transformed[POI,:] + update[POI]\n",
        "          X_updated[POI,:] = aux\n",
        "\n",
        "\n",
        "          Yi_minus_Yj_nPOI = Yi_minus_Yj[notPOI][:,notPOI]\n",
        "          p_matrix_nPOI = p_matrix[notPOI][:, notPOI].unsqueeze(-1)\n",
        "          q_matrix_nPOI = q_matrix[notPOI][:, notPOI].unsqueeze(-1)\n",
        "\n",
        "          loop2Grad1 = sneGrad[notPOI]\n",
        "          loop2Grad2 = (lambdas - 1)*torch.sum((2*Yi_minus_Yj[notPOI].transpose(1,0)*q_matrix[:,notPOI].unsqueeze(-1)*cache_POI[notPOI].unsqueeze(1)), dim = 0)\n",
        "          loop2Grad3 = (lambdas - 1)*torch.sum(-2*Yi_minus_Yj_nPOI*p_matrix_nPOI*(1-q_matrix_nPOI), dim = 1)\n",
        "          loop2Grad4 = (lambdas - 1)*torch.sum(-2*cache_nPOI[notPOI].unsqueeze(1)*q_matrix_nPOI*(-1*Yi_minus_Yj_nPOI), dim = 1)\n",
        "          loop2Grad5 = (lambdas - 1)*torch.sum(2*p_matrix_nPOI*(Yi_minus_Yj_nPOI), dim = 0)\n",
        "\n",
        "          update[notPOI] = -(self.lr*(loop2Grad1+loop2Grad2+loop2Grad3+loop2Grad4+loop2Grad5)) + (alpha*update[notPOI])\n",
        "          aux = X_transformed[notPOI,:] + update[notPOI]\n",
        "          X_updated[notPOI,:] = aux\n",
        "\n",
        "          del q_matrix\n",
        "          torch.cuda.empty_cache()\n",
        "          X_transformed = X_updated\n",
        "          q_matrix = x2q(X_transformed)\n",
        "          q_matrix = q_matrix.to(device) + 1e-24\n",
        "\n",
        "          logPQ = (p_matrix*torch.log(p_matrix/q_matrix))\n",
        "          logPQ.fill_diagonal_(0)\n",
        "          np_logPQ = logPQ.cpu().numpy()\n",
        "\n",
        "          term1 = logPQ[POI]\n",
        "          term2 = logPQ[notPOI, :][:, POI]\n",
        "          term3 = logPQ[notPOI, :][:, notPOI]\n",
        "          sumTerm1 = torch.sum(term1) * lambdas\n",
        "          sumTerm2 = torch.sum(term2) * lambdas\n",
        "          sumTerm3 = torch.sum(term3)\n",
        "          C = torch.sum(sumTerm1 + sumTerm2 + sumTerm3)\n",
        "\n",
        "          if (lowest_cost - C - self.tol) < 0:\n",
        "              no_progress +=1\n",
        "          else:\n",
        "              lowest_cost = C\n",
        "              no_progress = 0\n",
        "          if no_progress >= self.ES:\n",
        "              print()\n",
        "              print(f'No progress in the last {self.ES} iterations')\n",
        "              return X_transformed.cpu().numpy()\n",
        "          bar.set_description(f'Cost: {C.cpu().item():.5f}')\n",
        "        return X_transformed.cpu().numpy()#, p_matrix.cpu().numpy(), q_matrix.cpu().numpy()\n"
      ]
    },
    {
      "cell_type": "code",
      "source": [
        "import time\n",
        "p=10\n",
        "poi = '3'\n",
        "datas_perp = dict(np.load('20News'+poi+'.npy',allow_pickle=True).item())\n",
        "print(set(datas_perp['20NewsGroups'][2]))\n",
        "X_transformed =datas_perp['20NewsGroups'][0]\n",
        "POI =list(datas_perp['20NewsGroups'][1][5])\n",
        "all_runtimes = []\n",
        "for i in range(2):\n",
        "  start=time.time()\n",
        "  embedding_fsne = fSNE_torch(X_transformed, max_iter=1000, perp=p, POI=POI, ES=1000, lambdas=2).fit_transform()\n",
        "  all_runtimes.append(time.time() - start)\n",
        "  # filename = \"20news\"+poi+\"-fsne-run_\"+str(i)+\"_perp\"+str(p)\n",
        "  # compressed_pickle(embedding_fsne,filename)"
      ],
      "metadata": {
        "id": "jXIhzYIdob4_",
        "colab": {
          "base_uri": "https://localhost:8080/",
          "height": 460
        },
        "outputId": "e7429865-3af1-4fa2-c245-43780a2ca552"
      },
      "execution_count": null,
      "outputs": [
        {
          "output_type": "stream",
          "name": "stdout",
          "text": [
            "{0.0, 1.0, 2.0, 3.0, 4.0, 5.0, 6.0, 7.0, 8.0, 9.0, 10.0, 11.0, 12.0, 13.0, 14.0, 15.0, 16.0, 17.0, 18.0, 19.0, 99}\n"
          ]
        },
        {
          "output_type": "stream",
          "name": "stderr",
          "text": [
            "using cuda\n",
            "Cost: 81986.21298:   0%|          | 1/1000 [00:01<18:20,  1.10s/it]\n"
          ]
        },
        {
          "output_type": "error",
          "ename": "RuntimeError",
          "evalue": "ignored",
          "traceback": [
            "\u001b[0;31m---------------------------------------------------------------------------\u001b[0m",
            "\u001b[0;31mRuntimeError\u001b[0m                              Traceback (most recent call last)",
            "\u001b[0;32m<ipython-input-10-3743e0ac5c01>\u001b[0m in \u001b[0;36m<module>\u001b[0;34m()\u001b[0m\n\u001b[1;32m      9\u001b[0m \u001b[0;32mfor\u001b[0m \u001b[0mi\u001b[0m \u001b[0;32min\u001b[0m \u001b[0mrange\u001b[0m\u001b[0;34m(\u001b[0m\u001b[0;36m2\u001b[0m\u001b[0;34m)\u001b[0m\u001b[0;34m:\u001b[0m\u001b[0;34m\u001b[0m\u001b[0;34m\u001b[0m\u001b[0m\n\u001b[1;32m     10\u001b[0m   \u001b[0mstart\u001b[0m\u001b[0;34m=\u001b[0m\u001b[0mtime\u001b[0m\u001b[0;34m.\u001b[0m\u001b[0mtime\u001b[0m\u001b[0;34m(\u001b[0m\u001b[0;34m)\u001b[0m\u001b[0;34m\u001b[0m\u001b[0;34m\u001b[0m\u001b[0m\n\u001b[0;32m---> 11\u001b[0;31m   \u001b[0membedding_fsne\u001b[0m \u001b[0;34m=\u001b[0m \u001b[0mfSNE_torch\u001b[0m\u001b[0;34m(\u001b[0m\u001b[0mX_transformed\u001b[0m\u001b[0;34m,\u001b[0m \u001b[0mmax_iter\u001b[0m\u001b[0;34m=\u001b[0m\u001b[0;36m1000\u001b[0m\u001b[0;34m,\u001b[0m \u001b[0mperp\u001b[0m\u001b[0;34m=\u001b[0m\u001b[0mp\u001b[0m\u001b[0;34m,\u001b[0m \u001b[0mPOI\u001b[0m\u001b[0;34m=\u001b[0m\u001b[0mPOI\u001b[0m\u001b[0;34m,\u001b[0m \u001b[0mES\u001b[0m\u001b[0;34m=\u001b[0m\u001b[0;36m1000\u001b[0m\u001b[0;34m,\u001b[0m \u001b[0mlambdas\u001b[0m\u001b[0;34m=\u001b[0m\u001b[0;36m2\u001b[0m\u001b[0;34m)\u001b[0m\u001b[0;34m.\u001b[0m\u001b[0mfit_transform\u001b[0m\u001b[0;34m(\u001b[0m\u001b[0;34m)\u001b[0m\u001b[0;34m\u001b[0m\u001b[0;34m\u001b[0m\u001b[0m\n\u001b[0m\u001b[1;32m     12\u001b[0m   \u001b[0mall_runtimes\u001b[0m\u001b[0;34m.\u001b[0m\u001b[0mappend\u001b[0m\u001b[0;34m(\u001b[0m\u001b[0mtime\u001b[0m\u001b[0;34m.\u001b[0m\u001b[0mtime\u001b[0m\u001b[0;34m(\u001b[0m\u001b[0;34m)\u001b[0m \u001b[0;34m-\u001b[0m \u001b[0mstart\u001b[0m\u001b[0;34m)\u001b[0m\u001b[0;34m\u001b[0m\u001b[0;34m\u001b[0m\u001b[0m\n\u001b[1;32m     13\u001b[0m   \u001b[0;31m# filename = \"20news\"+poi+\"-fsne-run_\"+str(i)+\"_perp\"+str(p)\u001b[0m\u001b[0;34m\u001b[0m\u001b[0;34m\u001b[0m\u001b[0;34m\u001b[0m\u001b[0m\n",
            "\u001b[0;32m<ipython-input-4-059de62a3a02>\u001b[0m in \u001b[0;36mfit_transform\u001b[0;34m(self, verbose)\u001b[0m\n\u001b[1;32m    205\u001b[0m \u001b[0;34m\u001b[0m\u001b[0m\n\u001b[1;32m    206\u001b[0m           \u001b[0mloop2Grad1\u001b[0m \u001b[0;34m=\u001b[0m \u001b[0msneGrad\u001b[0m\u001b[0;34m[\u001b[0m\u001b[0mnotPOI\u001b[0m\u001b[0;34m]\u001b[0m\u001b[0;34m\u001b[0m\u001b[0;34m\u001b[0m\u001b[0m\n\u001b[0;32m--> 207\u001b[0;31m           \u001b[0mloop2Grad2\u001b[0m \u001b[0;34m=\u001b[0m \u001b[0;34m(\u001b[0m\u001b[0mlambdas\u001b[0m \u001b[0;34m-\u001b[0m \u001b[0;36m1\u001b[0m\u001b[0;34m)\u001b[0m\u001b[0;34m*\u001b[0m\u001b[0mtorch\u001b[0m\u001b[0;34m.\u001b[0m\u001b[0msum\u001b[0m\u001b[0;34m(\u001b[0m\u001b[0;34m(\u001b[0m\u001b[0;36m2\u001b[0m\u001b[0;34m*\u001b[0m\u001b[0mYi_minus_Yj\u001b[0m\u001b[0;34m[\u001b[0m\u001b[0mnotPOI\u001b[0m\u001b[0;34m]\u001b[0m\u001b[0;34m.\u001b[0m\u001b[0mtranspose\u001b[0m\u001b[0;34m(\u001b[0m\u001b[0;36m1\u001b[0m\u001b[0;34m,\u001b[0m\u001b[0;36m0\u001b[0m\u001b[0;34m)\u001b[0m\u001b[0;34m*\u001b[0m\u001b[0mq_matrix\u001b[0m\u001b[0;34m[\u001b[0m\u001b[0;34m:\u001b[0m\u001b[0;34m,\u001b[0m\u001b[0mnotPOI\u001b[0m\u001b[0;34m]\u001b[0m\u001b[0;34m.\u001b[0m\u001b[0munsqueeze\u001b[0m\u001b[0;34m(\u001b[0m\u001b[0;34m-\u001b[0m\u001b[0;36m1\u001b[0m\u001b[0;34m)\u001b[0m\u001b[0;34m*\u001b[0m\u001b[0mcache_POI\u001b[0m\u001b[0;34m[\u001b[0m\u001b[0mnotPOI\u001b[0m\u001b[0;34m]\u001b[0m\u001b[0;34m.\u001b[0m\u001b[0munsqueeze\u001b[0m\u001b[0;34m(\u001b[0m\u001b[0;36m1\u001b[0m\u001b[0;34m)\u001b[0m\u001b[0;34m)\u001b[0m\u001b[0;34m,\u001b[0m \u001b[0mdim\u001b[0m \u001b[0;34m=\u001b[0m \u001b[0;36m0\u001b[0m\u001b[0;34m)\u001b[0m\u001b[0;34m\u001b[0m\u001b[0;34m\u001b[0m\u001b[0m\n\u001b[0m\u001b[1;32m    208\u001b[0m           \u001b[0mloop2Grad3\u001b[0m \u001b[0;34m=\u001b[0m \u001b[0;34m(\u001b[0m\u001b[0mlambdas\u001b[0m \u001b[0;34m-\u001b[0m \u001b[0;36m1\u001b[0m\u001b[0;34m)\u001b[0m\u001b[0;34m*\u001b[0m\u001b[0mtorch\u001b[0m\u001b[0;34m.\u001b[0m\u001b[0msum\u001b[0m\u001b[0;34m(\u001b[0m\u001b[0;34m-\u001b[0m\u001b[0;36m2\u001b[0m\u001b[0;34m*\u001b[0m\u001b[0mYi_minus_Yj_nPOI\u001b[0m\u001b[0;34m*\u001b[0m\u001b[0mp_matrix_nPOI\u001b[0m\u001b[0;34m*\u001b[0m\u001b[0;34m(\u001b[0m\u001b[0;36m1\u001b[0m\u001b[0;34m-\u001b[0m\u001b[0mq_matrix_nPOI\u001b[0m\u001b[0;34m)\u001b[0m\u001b[0;34m,\u001b[0m \u001b[0mdim\u001b[0m \u001b[0;34m=\u001b[0m \u001b[0;36m1\u001b[0m\u001b[0;34m)\u001b[0m\u001b[0;34m\u001b[0m\u001b[0;34m\u001b[0m\u001b[0m\n\u001b[1;32m    209\u001b[0m           \u001b[0mloop2Grad4\u001b[0m \u001b[0;34m=\u001b[0m \u001b[0;34m(\u001b[0m\u001b[0mlambdas\u001b[0m \u001b[0;34m-\u001b[0m \u001b[0;36m1\u001b[0m\u001b[0;34m)\u001b[0m\u001b[0;34m*\u001b[0m\u001b[0mtorch\u001b[0m\u001b[0;34m.\u001b[0m\u001b[0msum\u001b[0m\u001b[0;34m(\u001b[0m\u001b[0;34m-\u001b[0m\u001b[0;36m2\u001b[0m\u001b[0;34m*\u001b[0m\u001b[0mcache_nPOI\u001b[0m\u001b[0;34m[\u001b[0m\u001b[0mnotPOI\u001b[0m\u001b[0;34m]\u001b[0m\u001b[0;34m.\u001b[0m\u001b[0munsqueeze\u001b[0m\u001b[0;34m(\u001b[0m\u001b[0;36m1\u001b[0m\u001b[0;34m)\u001b[0m\u001b[0;34m*\u001b[0m\u001b[0mq_matrix_nPOI\u001b[0m\u001b[0;34m*\u001b[0m\u001b[0;34m(\u001b[0m\u001b[0;34m-\u001b[0m\u001b[0;36m1\u001b[0m\u001b[0;34m*\u001b[0m\u001b[0mYi_minus_Yj_nPOI\u001b[0m\u001b[0;34m)\u001b[0m\u001b[0;34m,\u001b[0m \u001b[0mdim\u001b[0m \u001b[0;34m=\u001b[0m \u001b[0;36m1\u001b[0m\u001b[0;34m)\u001b[0m\u001b[0;34m\u001b[0m\u001b[0;34m\u001b[0m\u001b[0m\n",
            "\u001b[0;31mRuntimeError\u001b[0m: CUDA out of memory. Tried to allocate 1.89 GiB (GPU 0; 15.90 GiB total capacity; 12.32 GiB already allocated; 455.75 MiB free; 14.75 GiB reserved in total by PyTorch) If reserved memory is >> allocated memory try setting max_split_size_mb to avoid fragmentation.  See documentation for Memory Management and PYTORCH_CUDA_ALLOC_CONF"
          ]
        }
      ]
    },
    {
      "cell_type": "code",
      "source": [
        "X_transformed.shape"
      ],
      "metadata": {
        "colab": {
          "base_uri": "https://localhost:8080/"
        },
        "id": "66t9s937kj69",
        "outputId": "a2aadd55-3d35-44e3-caaa-fe6192e9fd7d"
      },
      "execution_count": null,
      "outputs": [
        {
          "output_type": "execute_result",
          "data": {
            "text/plain": [
              "(11314, 5000)"
            ]
          },
          "metadata": {},
          "execution_count": 11
        }
      ]
    },
    {
      "cell_type": "code",
      "source": [
        "# 03:05 , 03:18"
      ],
      "metadata": {
        "id": "RIOquxNibwXz"
      },
      "execution_count": null,
      "outputs": []
    },
    {
      "cell_type": "code",
      "source": [
        "# wine quality\n",
        "# all_runtimes\n",
        "# # [201.2964768409729, 215.26704025268555]"
      ],
      "metadata": {
        "id": "cqlOpPQFcgTF"
      },
      "execution_count": null,
      "outputs": []
    },
    {
      "cell_type": "code",
      "source": [
        "import numpy as np\n",
        "np.mean(all_runtimes) # 208.281 seconds"
      ],
      "metadata": {
        "id": "p2iD8V9Ucjab"
      },
      "execution_count": null,
      "outputs": []
    },
    {
      "cell_type": "markdown",
      "source": [
        "#SNE"
      ],
      "metadata": {
        "id": "fpAKWL3n73lq"
      }
    },
    {
      "cell_type": "code",
      "source": [
        "p=10\n",
        "poi = '1000'\n",
        "datas_perp = dict(np.load('20News'+poi+'.npy',allow_pickle=True).item())\n",
        "X_transformed =datas_perp['20NewsGroups'][0]\n",
        "POI =list(datas_perp['20NewsGroups'][1][5])\n",
        "for i in range(1,4):\n",
        "  embedding_sne = fSNE_torch(X_transformed, max_iter=1, perp=p, POI=POI, ES=300, lambdas=1).fit_transform()\n",
        "  filename = \"20news\"+poi+\"-sne-run_\"+str(i)+\"_perp\"+str(p)\n",
        "  compressed_pickle(embedding_sne,filename)"
      ],
      "metadata": {
        "id": "OA3L64KN5NM0"
      },
      "execution_count": null,
      "outputs": []
    }
  ],
  "metadata": {
    "accelerator": "GPU",
    "colab": {
      "collapsed_sections": [
        "fpAKWL3n73lq"
      ],
      "provenance": []
    },
    "gpuClass": "standard",
    "kernelspec": {
      "display_name": "Python 3",
      "name": "python3"
    },
    "language_info": {
      "name": "python"
    }
  },
  "nbformat": 4,
  "nbformat_minor": 0
}