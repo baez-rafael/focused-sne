{
 "cells": [
  {
   "cell_type": "code",
   "execution_count": null,
   "metadata": {},
   "outputs": [
    {
     "data": {
      "text/html": [
       "\n",
       "    <div class=\"bk-root\">\n",
       "        <a href=\"https://bokeh.pydata.org\" target=\"_blank\" class=\"bk-logo bk-logo-small bk-logo-notebook\"></a>\n",
       "        <span id=\"1001\">Loading BokehJS ...</span>\n",
       "    </div>"
      ]
     },
     "metadata": {},
     "output_type": "display_data"
    },
    {
     "data": {
      "application/javascript": [
       "\n",
       "(function(root) {\n",
       "  function now() {\n",
       "    return new Date();\n",
       "  }\n",
       "\n",
       "  var force = true;\n",
       "\n",
       "  if (typeof root._bokeh_onload_callbacks === \"undefined\" || force === true) {\n",
       "    root._bokeh_onload_callbacks = [];\n",
       "    root._bokeh_is_loading = undefined;\n",
       "  }\n",
       "\n",
       "  var JS_MIME_TYPE = 'application/javascript';\n",
       "  var HTML_MIME_TYPE = 'text/html';\n",
       "  var EXEC_MIME_TYPE = 'application/vnd.bokehjs_exec.v0+json';\n",
       "  var CLASS_NAME = 'output_bokeh rendered_html';\n",
       "\n",
       "  /**\n",
       "   * Render data to the DOM node\n",
       "   */\n",
       "  function render(props, node) {\n",
       "    var script = document.createElement(\"script\");\n",
       "    node.appendChild(script);\n",
       "  }\n",
       "\n",
       "  /**\n",
       "   * Handle when an output is cleared or removed\n",
       "   */\n",
       "  function handleClearOutput(event, handle) {\n",
       "    var cell = handle.cell;\n",
       "\n",
       "    var id = cell.output_area._bokeh_element_id;\n",
       "    var server_id = cell.output_area._bokeh_server_id;\n",
       "    // Clean up Bokeh references\n",
       "    if (id != null && id in Bokeh.index) {\n",
       "      Bokeh.index[id].model.document.clear();\n",
       "      delete Bokeh.index[id];\n",
       "    }\n",
       "\n",
       "    if (server_id !== undefined) {\n",
       "      // Clean up Bokeh references\n",
       "      var cmd = \"from bokeh.io.state import curstate; print(curstate().uuid_to_server['\" + server_id + \"'].get_sessions()[0].document.roots[0]._id)\";\n",
       "      cell.notebook.kernel.execute(cmd, {\n",
       "        iopub: {\n",
       "          output: function(msg) {\n",
       "            var id = msg.content.text.trim();\n",
       "            if (id in Bokeh.index) {\n",
       "              Bokeh.index[id].model.document.clear();\n",
       "              delete Bokeh.index[id];\n",
       "            }\n",
       "          }\n",
       "        }\n",
       "      });\n",
       "      // Destroy server and session\n",
       "      var cmd = \"import bokeh.io.notebook as ion; ion.destroy_server('\" + server_id + \"')\";\n",
       "      cell.notebook.kernel.execute(cmd);\n",
       "    }\n",
       "  }\n",
       "\n",
       "  /**\n",
       "   * Handle when a new output is added\n",
       "   */\n",
       "  function handleAddOutput(event, handle) {\n",
       "    var output_area = handle.output_area;\n",
       "    var output = handle.output;\n",
       "\n",
       "    // limit handleAddOutput to display_data with EXEC_MIME_TYPE content only\n",
       "    if ((output.output_type != \"display_data\") || (!output.data.hasOwnProperty(EXEC_MIME_TYPE))) {\n",
       "      return\n",
       "    }\n",
       "\n",
       "    var toinsert = output_area.element.find(\".\" + CLASS_NAME.split(' ')[0]);\n",
       "\n",
       "    if (output.metadata[EXEC_MIME_TYPE][\"id\"] !== undefined) {\n",
       "      toinsert[toinsert.length - 1].firstChild.textContent = output.data[JS_MIME_TYPE];\n",
       "      // store reference to embed id on output_area\n",
       "      output_area._bokeh_element_id = output.metadata[EXEC_MIME_TYPE][\"id\"];\n",
       "    }\n",
       "    if (output.metadata[EXEC_MIME_TYPE][\"server_id\"] !== undefined) {\n",
       "      var bk_div = document.createElement(\"div\");\n",
       "      bk_div.innerHTML = output.data[HTML_MIME_TYPE];\n",
       "      var script_attrs = bk_div.children[0].attributes;\n",
       "      for (var i = 0; i < script_attrs.length; i++) {\n",
       "        toinsert[toinsert.length - 1].firstChild.setAttribute(script_attrs[i].name, script_attrs[i].value);\n",
       "      }\n",
       "      // store reference to server id on output_area\n",
       "      output_area._bokeh_server_id = output.metadata[EXEC_MIME_TYPE][\"server_id\"];\n",
       "    }\n",
       "  }\n",
       "\n",
       "  function register_renderer(events, OutputArea) {\n",
       "\n",
       "    function append_mime(data, metadata, element) {\n",
       "      // create a DOM node to render to\n",
       "      var toinsert = this.create_output_subarea(\n",
       "        metadata,\n",
       "        CLASS_NAME,\n",
       "        EXEC_MIME_TYPE\n",
       "      );\n",
       "      this.keyboard_manager.register_events(toinsert);\n",
       "      // Render to node\n",
       "      var props = {data: data, metadata: metadata[EXEC_MIME_TYPE]};\n",
       "      render(props, toinsert[toinsert.length - 1]);\n",
       "      element.append(toinsert);\n",
       "      return toinsert\n",
       "    }\n",
       "\n",
       "    /* Handle when an output is cleared or removed */\n",
       "    events.on('clear_output.CodeCell', handleClearOutput);\n",
       "    events.on('delete.Cell', handleClearOutput);\n",
       "\n",
       "    /* Handle when a new output is added */\n",
       "    events.on('output_added.OutputArea', handleAddOutput);\n",
       "\n",
       "    /**\n",
       "     * Register the mime type and append_mime function with output_area\n",
       "     */\n",
       "    OutputArea.prototype.register_mime_type(EXEC_MIME_TYPE, append_mime, {\n",
       "      /* Is output safe? */\n",
       "      safe: true,\n",
       "      /* Index of renderer in `output_area.display_order` */\n",
       "      index: 0\n",
       "    });\n",
       "  }\n",
       "\n",
       "  // register the mime type if in Jupyter Notebook environment and previously unregistered\n",
       "  if (root.Jupyter !== undefined) {\n",
       "    var events = require('base/js/events');\n",
       "    var OutputArea = require('notebook/js/outputarea').OutputArea;\n",
       "\n",
       "    if (OutputArea.prototype.mime_types().indexOf(EXEC_MIME_TYPE) == -1) {\n",
       "      register_renderer(events, OutputArea);\n",
       "    }\n",
       "  }\n",
       "\n",
       "  \n",
       "  if (typeof (root._bokeh_timeout) === \"undefined\" || force === true) {\n",
       "    root._bokeh_timeout = Date.now() + 5000;\n",
       "    root._bokeh_failed_load = false;\n",
       "  }\n",
       "\n",
       "  var NB_LOAD_WARNING = {'data': {'text/html':\n",
       "     \"<div style='background-color: #fdd'>\\n\"+\n",
       "     \"<p>\\n\"+\n",
       "     \"BokehJS does not appear to have successfully loaded. If loading BokehJS from CDN, this \\n\"+\n",
       "     \"may be due to a slow or bad network connection. Possible fixes:\\n\"+\n",
       "     \"</p>\\n\"+\n",
       "     \"<ul>\\n\"+\n",
       "     \"<li>re-rerun `output_notebook()` to attempt to load from CDN again, or</li>\\n\"+\n",
       "     \"<li>use INLINE resources instead, as so:</li>\\n\"+\n",
       "     \"</ul>\\n\"+\n",
       "     \"<code>\\n\"+\n",
       "     \"from bokeh.resources import INLINE\\n\"+\n",
       "     \"output_notebook(resources=INLINE)\\n\"+\n",
       "     \"</code>\\n\"+\n",
       "     \"</div>\"}};\n",
       "\n",
       "  function display_loaded() {\n",
       "    var el = document.getElementById(\"1001\");\n",
       "    if (el != null) {\n",
       "      el.textContent = \"BokehJS is loading...\";\n",
       "    }\n",
       "    if (root.Bokeh !== undefined) {\n",
       "      if (el != null) {\n",
       "        el.textContent = \"BokehJS \" + root.Bokeh.version + \" successfully loaded.\";\n",
       "      }\n",
       "    } else if (Date.now() < root._bokeh_timeout) {\n",
       "      setTimeout(display_loaded, 100)\n",
       "    }\n",
       "  }\n",
       "\n",
       "\n",
       "  function run_callbacks() {\n",
       "    try {\n",
       "      root._bokeh_onload_callbacks.forEach(function(callback) {\n",
       "        if (callback != null)\n",
       "          callback();\n",
       "      });\n",
       "    } finally {\n",
       "      delete root._bokeh_onload_callbacks\n",
       "    }\n",
       "    console.debug(\"Bokeh: all callbacks have finished\");\n",
       "  }\n",
       "\n",
       "  function load_libs(css_urls, js_urls, callback) {\n",
       "    if (css_urls == null) css_urls = [];\n",
       "    if (js_urls == null) js_urls = [];\n",
       "\n",
       "    root._bokeh_onload_callbacks.push(callback);\n",
       "    if (root._bokeh_is_loading > 0) {\n",
       "      console.debug(\"Bokeh: BokehJS is being loaded, scheduling callback at\", now());\n",
       "      return null;\n",
       "    }\n",
       "    if (js_urls == null || js_urls.length === 0) {\n",
       "      run_callbacks();\n",
       "      return null;\n",
       "    }\n",
       "    console.debug(\"Bokeh: BokehJS not loaded, scheduling load and callback at\", now());\n",
       "    root._bokeh_is_loading = css_urls.length + js_urls.length;\n",
       "\n",
       "    function on_load() {\n",
       "      root._bokeh_is_loading--;\n",
       "      if (root._bokeh_is_loading === 0) {\n",
       "        console.debug(\"Bokeh: all BokehJS libraries/stylesheets loaded\");\n",
       "        run_callbacks()\n",
       "      }\n",
       "    }\n",
       "\n",
       "    function on_error() {\n",
       "      console.error(\"failed to load \" + url);\n",
       "    }\n",
       "\n",
       "    for (var i = 0; i < css_urls.length; i++) {\n",
       "      var url = css_urls[i];\n",
       "      const element = document.createElement(\"link\");\n",
       "      element.onload = on_load;\n",
       "      element.onerror = on_error;\n",
       "      element.rel = \"stylesheet\";\n",
       "      element.type = \"text/css\";\n",
       "      element.href = url;\n",
       "      console.debug(\"Bokeh: injecting link tag for BokehJS stylesheet: \", url);\n",
       "      document.body.appendChild(element);\n",
       "    }\n",
       "\n",
       "    for (var i = 0; i < js_urls.length; i++) {\n",
       "      var url = js_urls[i];\n",
       "      var element = document.createElement('script');\n",
       "      element.onload = on_load;\n",
       "      element.onerror = on_error;\n",
       "      element.async = false;\n",
       "      element.src = url;\n",
       "      console.debug(\"Bokeh: injecting script tag for BokehJS library: \", url);\n",
       "      document.head.appendChild(element);\n",
       "    }\n",
       "  };var element = document.getElementById(\"1001\");\n",
       "  if (element == null) {\n",
       "    console.error(\"Bokeh: ERROR: autoload.js configured with elementid '1001' but no matching script tag was found. \")\n",
       "    return false;\n",
       "  }\n",
       "\n",
       "  function inject_raw_css(css) {\n",
       "    const element = document.createElement(\"style\");\n",
       "    element.appendChild(document.createTextNode(css));\n",
       "    document.body.appendChild(element);\n",
       "  }\n",
       "\n",
       "  var js_urls = [\"https://cdn.pydata.org/bokeh/release/bokeh-1.3.2.min.js\", \"https://cdn.pydata.org/bokeh/release/bokeh-widgets-1.3.2.min.js\", \"https://cdn.pydata.org/bokeh/release/bokeh-tables-1.3.2.min.js\", \"https://cdn.pydata.org/bokeh/release/bokeh-gl-1.3.2.min.js\"];\n",
       "  var css_urls = [];\n",
       "\n",
       "  var inline_js = [\n",
       "    function(Bokeh) {\n",
       "      Bokeh.set_log_level(\"info\");\n",
       "    },\n",
       "    \n",
       "    function(Bokeh) {\n",
       "      \n",
       "    },\n",
       "    function(Bokeh) {} // ensure no trailing comma for IE\n",
       "  ];\n",
       "\n",
       "  function run_inline_js() {\n",
       "    \n",
       "    if ((root.Bokeh !== undefined) || (force === true)) {\n",
       "      for (var i = 0; i < inline_js.length; i++) {\n",
       "        inline_js[i].call(root, root.Bokeh);\n",
       "      }if (force === true) {\n",
       "        display_loaded();\n",
       "      }} else if (Date.now() < root._bokeh_timeout) {\n",
       "      setTimeout(run_inline_js, 100);\n",
       "    } else if (!root._bokeh_failed_load) {\n",
       "      console.log(\"Bokeh: BokehJS failed to load within specified timeout.\");\n",
       "      root._bokeh_failed_load = true;\n",
       "    } else if (force !== true) {\n",
       "      var cell = $(document.getElementById(\"1001\")).parents('.cell').data().cell;\n",
       "      cell.output_area.append_execute_result(NB_LOAD_WARNING)\n",
       "    }\n",
       "\n",
       "  }\n",
       "\n",
       "  if (root._bokeh_is_loading === 0) {\n",
       "    console.debug(\"Bokeh: BokehJS loaded, going straight to plotting\");\n",
       "    run_inline_js();\n",
       "  } else {\n",
       "    load_libs(css_urls, js_urls, function() {\n",
       "      console.debug(\"Bokeh: BokehJS plotting callback run at\", now());\n",
       "      run_inline_js();\n",
       "    });\n",
       "  }\n",
       "}(window));"
      ],
      "application/vnd.bokehjs_load.v0+json": "\n(function(root) {\n  function now() {\n    return new Date();\n  }\n\n  var force = true;\n\n  if (typeof root._bokeh_onload_callbacks === \"undefined\" || force === true) {\n    root._bokeh_onload_callbacks = [];\n    root._bokeh_is_loading = undefined;\n  }\n\n  \n\n  \n  if (typeof (root._bokeh_timeout) === \"undefined\" || force === true) {\n    root._bokeh_timeout = Date.now() + 5000;\n    root._bokeh_failed_load = false;\n  }\n\n  var NB_LOAD_WARNING = {'data': {'text/html':\n     \"<div style='background-color: #fdd'>\\n\"+\n     \"<p>\\n\"+\n     \"BokehJS does not appear to have successfully loaded. If loading BokehJS from CDN, this \\n\"+\n     \"may be due to a slow or bad network connection. Possible fixes:\\n\"+\n     \"</p>\\n\"+\n     \"<ul>\\n\"+\n     \"<li>re-rerun `output_notebook()` to attempt to load from CDN again, or</li>\\n\"+\n     \"<li>use INLINE resources instead, as so:</li>\\n\"+\n     \"</ul>\\n\"+\n     \"<code>\\n\"+\n     \"from bokeh.resources import INLINE\\n\"+\n     \"output_notebook(resources=INLINE)\\n\"+\n     \"</code>\\n\"+\n     \"</div>\"}};\n\n  function display_loaded() {\n    var el = document.getElementById(\"1001\");\n    if (el != null) {\n      el.textContent = \"BokehJS is loading...\";\n    }\n    if (root.Bokeh !== undefined) {\n      if (el != null) {\n        el.textContent = \"BokehJS \" + root.Bokeh.version + \" successfully loaded.\";\n      }\n    } else if (Date.now() < root._bokeh_timeout) {\n      setTimeout(display_loaded, 100)\n    }\n  }\n\n\n  function run_callbacks() {\n    try {\n      root._bokeh_onload_callbacks.forEach(function(callback) {\n        if (callback != null)\n          callback();\n      });\n    } finally {\n      delete root._bokeh_onload_callbacks\n    }\n    console.debug(\"Bokeh: all callbacks have finished\");\n  }\n\n  function load_libs(css_urls, js_urls, callback) {\n    if (css_urls == null) css_urls = [];\n    if (js_urls == null) js_urls = [];\n\n    root._bokeh_onload_callbacks.push(callback);\n    if (root._bokeh_is_loading > 0) {\n      console.debug(\"Bokeh: BokehJS is being loaded, scheduling callback at\", now());\n      return null;\n    }\n    if (js_urls == null || js_urls.length === 0) {\n      run_callbacks();\n      return null;\n    }\n    console.debug(\"Bokeh: BokehJS not loaded, scheduling load and callback at\", now());\n    root._bokeh_is_loading = css_urls.length + js_urls.length;\n\n    function on_load() {\n      root._bokeh_is_loading--;\n      if (root._bokeh_is_loading === 0) {\n        console.debug(\"Bokeh: all BokehJS libraries/stylesheets loaded\");\n        run_callbacks()\n      }\n    }\n\n    function on_error() {\n      console.error(\"failed to load \" + url);\n    }\n\n    for (var i = 0; i < css_urls.length; i++) {\n      var url = css_urls[i];\n      const element = document.createElement(\"link\");\n      element.onload = on_load;\n      element.onerror = on_error;\n      element.rel = \"stylesheet\";\n      element.type = \"text/css\";\n      element.href = url;\n      console.debug(\"Bokeh: injecting link tag for BokehJS stylesheet: \", url);\n      document.body.appendChild(element);\n    }\n\n    for (var i = 0; i < js_urls.length; i++) {\n      var url = js_urls[i];\n      var element = document.createElement('script');\n      element.onload = on_load;\n      element.onerror = on_error;\n      element.async = false;\n      element.src = url;\n      console.debug(\"Bokeh: injecting script tag for BokehJS library: \", url);\n      document.head.appendChild(element);\n    }\n  };var element = document.getElementById(\"1001\");\n  if (element == null) {\n    console.error(\"Bokeh: ERROR: autoload.js configured with elementid '1001' but no matching script tag was found. \")\n    return false;\n  }\n\n  function inject_raw_css(css) {\n    const element = document.createElement(\"style\");\n    element.appendChild(document.createTextNode(css));\n    document.body.appendChild(element);\n  }\n\n  var js_urls = [\"https://cdn.pydata.org/bokeh/release/bokeh-1.3.2.min.js\", \"https://cdn.pydata.org/bokeh/release/bokeh-widgets-1.3.2.min.js\", \"https://cdn.pydata.org/bokeh/release/bokeh-tables-1.3.2.min.js\", \"https://cdn.pydata.org/bokeh/release/bokeh-gl-1.3.2.min.js\"];\n  var css_urls = [];\n\n  var inline_js = [\n    function(Bokeh) {\n      Bokeh.set_log_level(\"info\");\n    },\n    \n    function(Bokeh) {\n      \n    },\n    function(Bokeh) {} // ensure no trailing comma for IE\n  ];\n\n  function run_inline_js() {\n    \n    if ((root.Bokeh !== undefined) || (force === true)) {\n      for (var i = 0; i < inline_js.length; i++) {\n        inline_js[i].call(root, root.Bokeh);\n      }if (force === true) {\n        display_loaded();\n      }} else if (Date.now() < root._bokeh_timeout) {\n      setTimeout(run_inline_js, 100);\n    } else if (!root._bokeh_failed_load) {\n      console.log(\"Bokeh: BokehJS failed to load within specified timeout.\");\n      root._bokeh_failed_load = true;\n    } else if (force !== true) {\n      var cell = $(document.getElementById(\"1001\")).parents('.cell').data().cell;\n      cell.output_area.append_execute_result(NB_LOAD_WARNING)\n    }\n\n  }\n\n  if (root._bokeh_is_loading === 0) {\n    console.debug(\"Bokeh: BokehJS loaded, going straight to plotting\");\n    run_inline_js();\n  } else {\n    load_libs(css_urls, js_urls, function() {\n      console.debug(\"Bokeh: BokehJS plotting callback run at\", now());\n      run_inline_js();\n    });\n  }\n}(window));"
     },
     "metadata": {},
     "output_type": "display_data"
    }
   ],
   "source": [
    "## Importing libraries\n",
    "\n",
    "%matplotlib inline\n",
    "import warnings\n",
    "warnings.filterwarnings('ignore')\n",
    "\n",
    "import os\n",
    "import sys\n",
    "import math\n",
    "import numpy as np\n",
    "import pandas as pd\n",
    "from bokeh.io import show, output_notebook\n",
    "from bokeh.plotting import figure\n",
    "from bokeh.plotting import figure, output_file, show, ColumnDataSource\n",
    "from bokeh.models import HoverTool\n",
    "from bokeh.io import output_notebook\n",
    "from bokeh.models.glyphs import Text\n",
    "from bokeh.layouts import row\n",
    "from bokeh.io import export_png\n",
    "output_notebook()\n",
    "\n",
    "## Importing local Python files\n",
    "\n",
    "sys.path.append('../') \n",
    "from src import Preprocessing, Distances, Explanation, DR_algorithms, genericMethods\n",
    "from src.LAPS_tabular import LapsExplainer\n",
    "\n",
    "## Defining input paths (Update the Data_path attribute accordingly)\n",
    "\n",
    "Data_path = \"../data/\""
   ]
  },
  {
   "cell_type": "markdown",
   "metadata": {},
   "source": [
    "### Step 1: Load and Pre-process Dataset\n",
    "\n",
    "#### a. Load Dataset"
   ]
  },
  {
   "cell_type": "code",
   "execution_count": 2,
   "metadata": {},
   "outputs": [
    {
     "data": {
      "text/html": [
       "<div>\n",
       "<style scoped>\n",
       "    .dataframe tbody tr th:only-of-type {\n",
       "        vertical-align: middle;\n",
       "    }\n",
       "\n",
       "    .dataframe tbody tr th {\n",
       "        vertical-align: top;\n",
       "    }\n",
       "\n",
       "    .dataframe thead th {\n",
       "        text-align: right;\n",
       "    }\n",
       "</style>\n",
       "<table border=\"1\" class=\"dataframe\">\n",
       "  <thead>\n",
       "    <tr style=\"text-align: right;\">\n",
       "      <th></th>\n",
       "      <th>radius_mean</th>\n",
       "      <th>texture_mean</th>\n",
       "      <th>perimeter_mean</th>\n",
       "      <th>area_mean</th>\n",
       "      <th>smoothness_mean</th>\n",
       "      <th>compactness_mean</th>\n",
       "      <th>concavity_mean</th>\n",
       "      <th>concave points_mean</th>\n",
       "      <th>symmetry_mean</th>\n",
       "      <th>fractal_dimension_mean</th>\n",
       "      <th>...</th>\n",
       "      <th>texture_worst</th>\n",
       "      <th>perimeter_worst</th>\n",
       "      <th>area_worst</th>\n",
       "      <th>smoothness_worst</th>\n",
       "      <th>compactness_worst</th>\n",
       "      <th>concavity_worst</th>\n",
       "      <th>concave points_worst</th>\n",
       "      <th>symmetry_worst</th>\n",
       "      <th>fractal_dimension_worst</th>\n",
       "      <th>diagnosis</th>\n",
       "    </tr>\n",
       "  </thead>\n",
       "  <tbody>\n",
       "    <tr>\n",
       "      <th>0</th>\n",
       "      <td>17.29</td>\n",
       "      <td>22.13</td>\n",
       "      <td>114.40</td>\n",
       "      <td>947.8</td>\n",
       "      <td>0.08999</td>\n",
       "      <td>0.12730</td>\n",
       "      <td>0.09697</td>\n",
       "      <td>0.075070</td>\n",
       "      <td>0.2108</td>\n",
       "      <td>0.05464</td>\n",
       "      <td>...</td>\n",
       "      <td>27.24</td>\n",
       "      <td>137.90</td>\n",
       "      <td>1295.0</td>\n",
       "      <td>0.1134</td>\n",
       "      <td>0.2867</td>\n",
       "      <td>0.22980</td>\n",
       "      <td>0.15280</td>\n",
       "      <td>0.3067</td>\n",
       "      <td>0.07484</td>\n",
       "      <td>1</td>\n",
       "    </tr>\n",
       "    <tr>\n",
       "      <th>1</th>\n",
       "      <td>10.75</td>\n",
       "      <td>14.97</td>\n",
       "      <td>68.26</td>\n",
       "      <td>355.3</td>\n",
       "      <td>0.07793</td>\n",
       "      <td>0.05139</td>\n",
       "      <td>0.02251</td>\n",
       "      <td>0.007875</td>\n",
       "      <td>0.1399</td>\n",
       "      <td>0.05688</td>\n",
       "      <td>...</td>\n",
       "      <td>20.72</td>\n",
       "      <td>77.79</td>\n",
       "      <td>441.2</td>\n",
       "      <td>0.1076</td>\n",
       "      <td>0.1223</td>\n",
       "      <td>0.09755</td>\n",
       "      <td>0.03413</td>\n",
       "      <td>0.2300</td>\n",
       "      <td>0.06769</td>\n",
       "      <td>0</td>\n",
       "    </tr>\n",
       "    <tr>\n",
       "      <th>2</th>\n",
       "      <td>15.10</td>\n",
       "      <td>22.02</td>\n",
       "      <td>97.26</td>\n",
       "      <td>712.8</td>\n",
       "      <td>0.09056</td>\n",
       "      <td>0.07081</td>\n",
       "      <td>0.05253</td>\n",
       "      <td>0.033340</td>\n",
       "      <td>0.1616</td>\n",
       "      <td>0.05684</td>\n",
       "      <td>...</td>\n",
       "      <td>31.69</td>\n",
       "      <td>117.70</td>\n",
       "      <td>1030.0</td>\n",
       "      <td>0.1389</td>\n",
       "      <td>0.2057</td>\n",
       "      <td>0.27120</td>\n",
       "      <td>0.15300</td>\n",
       "      <td>0.2675</td>\n",
       "      <td>0.07873</td>\n",
       "      <td>1</td>\n",
       "    </tr>\n",
       "    <tr>\n",
       "      <th>3</th>\n",
       "      <td>15.08</td>\n",
       "      <td>25.74</td>\n",
       "      <td>98.00</td>\n",
       "      <td>716.6</td>\n",
       "      <td>0.10240</td>\n",
       "      <td>0.09769</td>\n",
       "      <td>0.12350</td>\n",
       "      <td>0.065530</td>\n",
       "      <td>0.1647</td>\n",
       "      <td>0.06464</td>\n",
       "      <td>...</td>\n",
       "      <td>33.22</td>\n",
       "      <td>121.20</td>\n",
       "      <td>1050.0</td>\n",
       "      <td>0.1660</td>\n",
       "      <td>0.2356</td>\n",
       "      <td>0.40290</td>\n",
       "      <td>0.15260</td>\n",
       "      <td>0.2654</td>\n",
       "      <td>0.09438</td>\n",
       "      <td>1</td>\n",
       "    </tr>\n",
       "    <tr>\n",
       "      <th>4</th>\n",
       "      <td>14.25</td>\n",
       "      <td>22.15</td>\n",
       "      <td>96.42</td>\n",
       "      <td>645.7</td>\n",
       "      <td>0.10490</td>\n",
       "      <td>0.20080</td>\n",
       "      <td>0.21350</td>\n",
       "      <td>0.086530</td>\n",
       "      <td>0.1949</td>\n",
       "      <td>0.07292</td>\n",
       "      <td>...</td>\n",
       "      <td>29.51</td>\n",
       "      <td>119.10</td>\n",
       "      <td>959.5</td>\n",
       "      <td>0.1640</td>\n",
       "      <td>0.6247</td>\n",
       "      <td>0.69220</td>\n",
       "      <td>0.17850</td>\n",
       "      <td>0.2844</td>\n",
       "      <td>0.11320</td>\n",
       "      <td>1</td>\n",
       "    </tr>\n",
       "  </tbody>\n",
       "</table>\n",
       "<p>5 rows × 31 columns</p>\n",
       "</div>"
      ],
      "text/plain": [
       "   radius_mean  texture_mean  perimeter_mean  area_mean  smoothness_mean  \\\n",
       "0        17.29         22.13          114.40      947.8          0.08999   \n",
       "1        10.75         14.97           68.26      355.3          0.07793   \n",
       "2        15.10         22.02           97.26      712.8          0.09056   \n",
       "3        15.08         25.74           98.00      716.6          0.10240   \n",
       "4        14.25         22.15           96.42      645.7          0.10490   \n",
       "\n",
       "   compactness_mean  concavity_mean  concave points_mean  symmetry_mean  \\\n",
       "0           0.12730         0.09697             0.075070         0.2108   \n",
       "1           0.05139         0.02251             0.007875         0.1399   \n",
       "2           0.07081         0.05253             0.033340         0.1616   \n",
       "3           0.09769         0.12350             0.065530         0.1647   \n",
       "4           0.20080         0.21350             0.086530         0.1949   \n",
       "\n",
       "   fractal_dimension_mean  ...  texture_worst  perimeter_worst  area_worst  \\\n",
       "0                 0.05464  ...          27.24           137.90      1295.0   \n",
       "1                 0.05688  ...          20.72            77.79       441.2   \n",
       "2                 0.05684  ...          31.69           117.70      1030.0   \n",
       "3                 0.06464  ...          33.22           121.20      1050.0   \n",
       "4                 0.07292  ...          29.51           119.10       959.5   \n",
       "\n",
       "   smoothness_worst  compactness_worst  concavity_worst  concave points_worst  \\\n",
       "0            0.1134             0.2867          0.22980               0.15280   \n",
       "1            0.1076             0.1223          0.09755               0.03413   \n",
       "2            0.1389             0.2057          0.27120               0.15300   \n",
       "3            0.1660             0.2356          0.40290               0.15260   \n",
       "4            0.1640             0.6247          0.69220               0.17850   \n",
       "\n",
       "   symmetry_worst  fractal_dimension_worst  diagnosis  \n",
       "0          0.3067                  0.07484          1  \n",
       "1          0.2300                  0.06769          0  \n",
       "2          0.2675                  0.07873          1  \n",
       "3          0.2654                  0.09438          1  \n",
       "4          0.2844                  0.11320          1  \n",
       "\n",
       "[5 rows x 31 columns]"
      ]
     },
     "execution_count": 2,
     "metadata": {},
     "output_type": "execute_result"
    }
   ],
   "source": [
    "df = pd.read_csv(Data_path+'breast_cancer.csv')\n",
    "df = df.fillna(0)\n",
    "df = df.sample(100)\n",
    "df.reset_index(inplace= True, drop= True)\n",
    "df.head()"
   ]
  },
  {
   "cell_type": "markdown",
   "metadata": {},
   "source": [
    "#### b. Identify Intrinsic Dimensionality"
   ]
  },
  {
   "cell_type": "code",
   "execution_count": 6,
   "metadata": {},
   "outputs": [
    {
     "name": "stderr",
     "output_type": "stream",
     "text": [
      "100%|██████████| 500/500 [00:12<00:00, 39.37it/s]"
     ]
    },
    {
     "name": "stdout",
     "output_type": "stream",
     "text": [
      "Intrinsic dimensionality: 2\n"
     ]
    },
    {
     "name": "stderr",
     "output_type": "stream",
     "text": [
      "\n"
     ]
    }
   ],
   "source": [
    "## Identify intrinsic dimensionality using: the Maximum likelihood intrinsic dimensionality estimator\n",
    "\n",
    "int_dim = Preprocessing.repeated(Preprocessing.intrinsic_dim_scale_interval, \n",
    "                             df.values, \n",
    "                             mode='bootstrap', \n",
    "                             nb_iter=500, # nb_iter for bootstrapping\n",
    "                             verbose=1, \n",
    "                             k1=10, k2=20)\n",
    "print (\"Intrinsic dimensionality:\", int_dim)"
   ]
  },
  {
   "cell_type": "markdown",
   "metadata": {},
   "source": [
    "#### c. Set Features and Target"
   ]
  },
  {
   "cell_type": "code",
   "execution_count": 3,
   "metadata": {},
   "outputs": [
    {
     "name": "stdout",
     "output_type": "stream",
     "text": [
      "Features:  ['radius_mean', 'texture_mean', 'perimeter_mean', 'area_mean', 'smoothness_mean', 'compactness_mean', 'concavity_mean', 'concave points_mean', 'symmetry_mean', 'fractal_dimension_mean', 'radius_se', 'texture_se', 'perimeter_se', 'area_se', 'smoothness_se', 'compactness_se', 'concavity_se', 'concave points_se', 'symmetry_se', 'fractal_dimension_se', 'radius_worst', 'texture_worst', 'perimeter_worst', 'area_worst', 'smoothness_worst', 'compactness_worst', 'concavity_worst', 'concave points_worst', 'symmetry_worst', 'fractal_dimension_worst']\n",
      "Target:  ['diagnosis']\n"
     ]
    }
   ],
   "source": [
    "model_features, target = Preprocessing.set_features_and_target(df)\n",
    "\n",
    "y = (df[target].values.reshape(-1, ))\n",
    "X_df = pd.DataFrame(df, columns=model_features)"
   ]
  },
  {
   "cell_type": "markdown",
   "metadata": {},
   "source": [
    "#### d. Identify Categorical Features"
   ]
  },
  {
   "cell_type": "code",
   "execution_count": 4,
   "metadata": {},
   "outputs": [],
   "source": [
    "X_transformed, categorical_features, numeric_features, categorical_names = Preprocessing.identify_and_transform_features(df, model_features)"
   ]
  },
  {
   "cell_type": "markdown",
   "metadata": {},
   "source": [
    "### Step 2: Run Dimensionality Reduction"
   ]
  },
  {
   "cell_type": "code",
   "execution_count": 5,
   "metadata": {},
   "outputs": [],
   "source": [
    "ld_embedding = DR_algorithms.run_DR_Algorithm(\"tSNE\", X_transformed)"
   ]
  },
  {
   "cell_type": "code",
   "execution_count": 6,
   "metadata": {},
   "outputs": [
    {
     "data": {
      "text/html": [
       "\n",
       "\n",
       "\n",
       "\n",
       "\n",
       "\n",
       "  <div class=\"bk-root\" id=\"84068f14-fcc7-4cd9-bf04-d6f74c553551\" data-root-id=\"1004\"></div>\n"
      ]
     },
     "metadata": {},
     "output_type": "display_data"
    },
    {
     "data": {
      "application/javascript": [
       "(function(root) {\n",
       "  function embed_document(root) {\n",
       "    \n",
       "  var docs_json = {\"4e7d1fa3-c137-4ce9-bdeb-241c3b7fbb19\":{\"roots\":{\"references\":[{\"attributes\":{\"below\":[{\"id\":\"1015\",\"type\":\"LinearAxis\"}],\"center\":[{\"id\":\"1019\",\"type\":\"Grid\"},{\"id\":\"1024\",\"type\":\"Grid\"},{\"id\":\"1038\",\"type\":\"Legend\"}],\"left\":[{\"id\":\"1020\",\"type\":\"LinearAxis\"}],\"plot_height\":450,\"plot_width\":700,\"renderers\":[{\"id\":\"1031\",\"type\":\"GlyphRenderer\"},{\"id\":\"1040\",\"type\":\"GlyphRenderer\"}],\"title\":{\"id\":\"1005\",\"type\":\"Title\"},\"toolbar\":{\"id\":\"1025\",\"type\":\"Toolbar\"},\"x_range\":{\"id\":\"1007\",\"type\":\"DataRange1d\"},\"x_scale\":{\"id\":\"1011\",\"type\":\"LinearScale\"},\"y_range\":{\"id\":\"1009\",\"type\":\"DataRange1d\"},\"y_scale\":{\"id\":\"1013\",\"type\":\"LinearScale\"}},\"id\":\"1004\",\"subtype\":\"Figure\",\"type\":\"Plot\"},{\"attributes\":{\"data_source\":{\"id\":\"1002\",\"type\":\"ColumnDataSource\"},\"glyph\":{\"id\":\"1027\",\"type\":\"Text\"},\"hover_glyph\":null,\"muted_glyph\":null,\"view\":{\"id\":\"1041\",\"type\":\"CDSView\"}},\"id\":\"1040\",\"type\":\"GlyphRenderer\"},{\"attributes\":{\"text\":\"Embedding\"},\"id\":\"1005\",\"type\":\"Title\"},{\"attributes\":{},\"id\":\"1011\",\"type\":\"LinearScale\"},{\"attributes\":{\"active_drag\":\"auto\",\"active_inspect\":\"auto\",\"active_multi\":null,\"active_scroll\":\"auto\",\"active_tap\":\"auto\",\"tools\":[{\"id\":\"1003\",\"type\":\"HoverTool\"}]},\"id\":\"1025\",\"type\":\"Toolbar\"},{\"attributes\":{\"callback\":null,\"tooltips\":[[\"index\",\"$index\"],[\"(x,y)\",\"($x, $y)\"]]},\"id\":\"1003\",\"type\":\"HoverTool\"},{\"attributes\":{\"fill_alpha\":{\"value\":0.1},\"fill_color\":{\"value\":\"#1f77b4\"},\"line_alpha\":{\"value\":0.1},\"line_color\":{\"value\":\"#1f77b4\"},\"size\":{\"units\":\"screen\",\"value\":10},\"x\":{\"field\":\"x\"},\"y\":{\"field\":\"y\"}},\"id\":\"1030\",\"type\":\"Circle\"},{\"attributes\":{\"callback\":null,\"data\":{\"all_colors\":[\"SandyBrown\",\"SteelBlue\",\"SandyBrown\",\"SandyBrown\",\"SandyBrown\",\"SteelBlue\",\"SteelBlue\",\"SandyBrown\",\"SteelBlue\",\"SteelBlue\",\"SteelBlue\",\"SandyBrown\",\"SteelBlue\",\"SandyBrown\",\"SteelBlue\",\"SteelBlue\",\"SteelBlue\",\"SandyBrown\",\"SteelBlue\",\"SandyBrown\",\"SteelBlue\",\"SandyBrown\",\"SandyBrown\",\"SteelBlue\",\"SandyBrown\",\"SteelBlue\",\"SteelBlue\",\"SteelBlue\",\"SteelBlue\",\"SteelBlue\",\"SteelBlue\",\"SandyBrown\",\"SandyBrown\",\"SandyBrown\",\"SandyBrown\",\"SteelBlue\",\"SandyBrown\",\"SandyBrown\",\"SandyBrown\",\"SteelBlue\",\"SteelBlue\",\"SteelBlue\",\"SteelBlue\",\"SteelBlue\",\"SandyBrown\",\"SandyBrown\",\"SteelBlue\",\"SteelBlue\",\"SteelBlue\",\"SandyBrown\",\"SteelBlue\",\"SteelBlue\",\"SandyBrown\",\"SandyBrown\",\"SteelBlue\",\"SteelBlue\",\"SteelBlue\",\"SteelBlue\",\"SandyBrown\",\"SteelBlue\",\"SteelBlue\",\"SteelBlue\",\"SteelBlue\",\"SandyBrown\",\"SteelBlue\",\"SandyBrown\",\"SteelBlue\",\"SandyBrown\",\"SandyBrown\",\"SteelBlue\",\"SteelBlue\",\"SteelBlue\",\"SteelBlue\",\"SteelBlue\",\"SteelBlue\",\"SteelBlue\",\"SandyBrown\",\"SteelBlue\",\"SteelBlue\",\"SteelBlue\",\"SandyBrown\",\"SandyBrown\",\"SandyBrown\",\"SteelBlue\",\"SandyBrown\",\"SteelBlue\",\"SteelBlue\",\"SteelBlue\",\"SteelBlue\",\"SteelBlue\",\"SteelBlue\",\"SandyBrown\",\"SteelBlue\",\"SteelBlue\",\"SteelBlue\",\"SteelBlue\",\"SandyBrown\",\"SteelBlue\",\"SteelBlue\",\"SteelBlue\"],\"indexes\":[0,1,2,3,4,5,6,7,8,9,10,11,12,13,14,15,16,17,18,19,20,21,22,23,24,25,26,27,28,29,30,31,32,33,34,35,36,37,38,39,40,41,42,43,44,45,46,47,48,49,50,51,52,53,54,55,56,57,58,59,60,61,62,63,64,65,66,67,68,69,70,71,72,73,74,75,76,77,78,79,80,81,82,83,84,85,86,87,88,89,90,91,92,93,94,95,96,97,98,99],\"label\":[\"Malignant\",\"Benign\",\"Malignant\",\"Malignant\",\"Malignant\",\"Benign\",\"Benign\",\"Malignant\",\"Benign\",\"Benign\",\"Benign\",\"Malignant\",\"Benign\",\"Malignant\",\"Benign\",\"Benign\",\"Benign\",\"Malignant\",\"Benign\",\"Malignant\",\"Benign\",\"Malignant\",\"Malignant\",\"Benign\",\"Malignant\",\"Benign\",\"Benign\",\"Benign\",\"Benign\",\"Benign\",\"Benign\",\"Malignant\",\"Malignant\",\"Malignant\",\"Malignant\",\"Benign\",\"Malignant\",\"Malignant\",\"Malignant\",\"Benign\",\"Benign\",\"Benign\",\"Benign\",\"Benign\",\"Malignant\",\"Malignant\",\"Benign\",\"Benign\",\"Benign\",\"Malignant\",\"Benign\",\"Benign\",\"Malignant\",\"Malignant\",\"Benign\",\"Benign\",\"Benign\",\"Benign\",\"Malignant\",\"Benign\",\"Benign\",\"Benign\",\"Benign\",\"Malignant\",\"Benign\",\"Malignant\",\"Benign\",\"Malignant\",\"Malignant\",\"Benign\",\"Benign\",\"Benign\",\"Benign\",\"Benign\",\"Benign\",\"Benign\",\"Malignant\",\"Benign\",\"Benign\",\"Benign\",\"Malignant\",\"Malignant\",\"Malignant\",\"Benign\",\"Malignant\",\"Benign\",\"Benign\",\"Benign\",\"Benign\",\"Benign\",\"Benign\",\"Malignant\",\"Benign\",\"Benign\",\"Benign\",\"Benign\",\"Malignant\",\"Benign\",\"Benign\",\"Benign\"],\"x\":{\"__ndarray__\":\"Q+6BQERp1MApfAbA3TijQCEKj0DANDjA2CSfwFg0ckCIIunA4niIwEhY5MCAsCRA6AVsvj4EE0C8eSDAvQxFPqrz3MD8S5hAcOOkwDZYMECWHBPBnsabQGz6EcDqtAHBl5taQLJ2q8CshPrAr9z2wMzpm8BHtczAQc+cwEhDXEB5FkhA3fSJP/3BdUAHEQm/VOqRQFJFUkCn8glAxkcFwfK6w8A/eArB3WrcwF+Gaj/u2zJAJkc4QOy82j/n7pLAJSmvwCb3cUA/BDy/77vqP1sTeT/i6CFAGoMCwR/uAsGbhcPAQC3uwF3EikBjenPA0/yUwFPcxsAaUibAsS7jPz+JksB80rFAqbWKv80g0T9YEkJAwvPAwE3cJsBPhOPAwtCxwI9l2cC76XTAEMPrwP3UCEDOfYfAngivwBPwyb+tiHtACiejQEiTiUA/RALB+mpoQCQqsj9IOKHAv6jmwGsHtsANG7a/NTWwwDc+pkDfXZnAV9bGwCkoBMA2YQfBTNaMQKLDxsBEDsbA3wl2wA==\",\"dtype\":\"float32\",\"shape\":[100]},\"y\":{\"__ndarray__\":\"oexBP8OPtEBTtaBAUuAEQO/4XkBZr4ZABK24P1Q0ekAp2glAiNg9QBQ/nEBFHVpAv9WMQIjAQkAmjSpAO6EhQNtPhkBKAoZA1YYbQJ/Cc0BPHDFAmKZRQHGlnUCHcWhAqW+RQENI1UDTrZpApNmMP6/dukA262NArdfNQJoZTEApX59ANXNgP79gIkDHxQdAqd8qPzspBkDRvjpAs8KIQG2T3T8jRwNA+4w0QHxmT0C9WKw+tL7+P13btECcsMRAxxKHQGuxoEB2xHRAZvamQFB7CD+ZVKlAowwUQHaZ1z8yGsg/PKLwPztHe0CXHpJAKcOdQA4evUCOdxVANMrcP2NtZEAiSRBAs20eQLaxfz8PkS5A0tanPfnAW0DRKJ8/7MmpvtTJXr2wXItAVb60P8NhXT8pxrhA/KCEQMFN7T8ECgxAuUaDQAH4F0BRYA4/H5U3QBGdbkCVWSFA1chGQIylOUCxlyhASrynQBl2KUApb6Q/N66TQDo+gUBRyDdAYgSSP8v+nUAJN8hAitvzPw==\",\"dtype\":\"float32\",\"shape\":[100]}},\"selected\":{\"id\":\"1047\",\"type\":\"Selection\"},\"selection_policy\":{\"id\":\"1048\",\"type\":\"UnionRenderers\"}},\"id\":\"1002\",\"type\":\"ColumnDataSource\"},{\"attributes\":{},\"id\":\"1048\",\"type\":\"UnionRenderers\"},{\"attributes\":{\"formatter\":{\"id\":\"1036\",\"type\":\"BasicTickFormatter\"},\"ticker\":{\"id\":\"1016\",\"type\":\"BasicTicker\"}},\"id\":\"1015\",\"type\":\"LinearAxis\"},{\"attributes\":{\"source\":{\"id\":\"1002\",\"type\":\"ColumnDataSource\"}},\"id\":\"1041\",\"type\":\"CDSView\"},{\"attributes\":{\"items\":[{\"id\":\"1039\",\"type\":\"LegendItem\"}]},\"id\":\"1038\",\"type\":\"Legend\"},{\"attributes\":{\"callback\":null},\"id\":\"1007\",\"type\":\"DataRange1d\"},{\"attributes\":{\"callback\":null},\"id\":\"1009\",\"type\":\"DataRange1d\"},{\"attributes\":{\"ticker\":{\"id\":\"1016\",\"type\":\"BasicTicker\"}},\"id\":\"1019\",\"type\":\"Grid\"},{\"attributes\":{},\"id\":\"1013\",\"type\":\"LinearScale\"},{\"attributes\":{},\"id\":\"1034\",\"type\":\"BasicTickFormatter\"},{\"attributes\":{},\"id\":\"1016\",\"type\":\"BasicTicker\"},{\"attributes\":{\"source\":{\"id\":\"1002\",\"type\":\"ColumnDataSource\"}},\"id\":\"1032\",\"type\":\"CDSView\"},{\"attributes\":{\"text\":{\"field\":\"indexes\"},\"text_color\":{\"value\":\"grey\"},\"text_font_size\":{\"value\":\"9pt\"},\"x\":{\"field\":\"x\"},\"x_offset\":{\"value\":7},\"y\":{\"field\":\"y\"},\"y_offset\":{\"value\":7}},\"id\":\"1027\",\"type\":\"Text\"},{\"attributes\":{\"label\":{\"field\":\"label\"},\"renderers\":[{\"id\":\"1031\",\"type\":\"GlyphRenderer\"}]},\"id\":\"1039\",\"type\":\"LegendItem\"},{\"attributes\":{\"dimension\":1,\"ticker\":{\"id\":\"1021\",\"type\":\"BasicTicker\"}},\"id\":\"1024\",\"type\":\"Grid\"},{\"attributes\":{},\"id\":\"1047\",\"type\":\"Selection\"},{\"attributes\":{\"data_source\":{\"id\":\"1002\",\"type\":\"ColumnDataSource\"},\"glyph\":{\"id\":\"1029\",\"type\":\"Circle\"},\"hover_glyph\":null,\"muted_glyph\":null,\"nonselection_glyph\":{\"id\":\"1030\",\"type\":\"Circle\"},\"selection_glyph\":null,\"view\":{\"id\":\"1032\",\"type\":\"CDSView\"}},\"id\":\"1031\",\"type\":\"GlyphRenderer\"},{\"attributes\":{\"fill_color\":{\"field\":\"all_colors\"},\"line_color\":{\"value\":\"white\"},\"size\":{\"units\":\"screen\",\"value\":10},\"x\":{\"field\":\"x\"},\"y\":{\"field\":\"y\"}},\"id\":\"1029\",\"type\":\"Circle\"},{\"attributes\":{},\"id\":\"1036\",\"type\":\"BasicTickFormatter\"},{\"attributes\":{\"formatter\":{\"id\":\"1034\",\"type\":\"BasicTickFormatter\"},\"ticker\":{\"id\":\"1021\",\"type\":\"BasicTicker\"}},\"id\":\"1020\",\"type\":\"LinearAxis\"},{\"attributes\":{},\"id\":\"1021\",\"type\":\"BasicTicker\"}],\"root_ids\":[\"1004\"]},\"title\":\"Bokeh Application\",\"version\":\"1.3.2\"}};\n",
       "  var render_items = [{\"docid\":\"4e7d1fa3-c137-4ce9-bdeb-241c3b7fbb19\",\"roots\":{\"1004\":\"84068f14-fcc7-4cd9-bf04-d6f74c553551\"}}];\n",
       "  root.Bokeh.embed.embed_items_notebook(docs_json, render_items);\n",
       "\n",
       "  }\n",
       "  if (root.Bokeh !== undefined) {\n",
       "    embed_document(root);\n",
       "  } else {\n",
       "    var attempts = 0;\n",
       "    var timer = setInterval(function(root) {\n",
       "      if (root.Bokeh !== undefined) {\n",
       "        embed_document(root);\n",
       "        clearInterval(timer);\n",
       "      }\n",
       "      attempts++;\n",
       "      if (attempts > 100) {\n",
       "        console.log(\"Bokeh: ERROR: Unable to run BokehJS code because BokehJS library is missing\");\n",
       "        clearInterval(timer);\n",
       "      }\n",
       "    }, 10, root)\n",
       "  }\n",
       "})(window);"
      ],
      "application/vnd.bokehjs_exec.v0+json": ""
     },
     "metadata": {
      "application/vnd.bokehjs_exec.v0+json": {
       "id": "1004"
      }
     },
     "output_type": "display_data"
    }
   ],
   "source": [
    "indexes = [i for i in range(0,len(y))]\n",
    "colormap = {0: 'SteelBlue', 1: 'SandyBrown'}\n",
    "colors = [colormap[z] for z in y.ravel()]\n",
    "labels = {0: 'Benign', 1: 'Malignant'}\n",
    "annotations = [labels[z] for z in y.ravel()]\n",
    "\n",
    "source = ColumnDataSource(\n",
    "        data=dict(\n",
    "            x=ld_embedding[:,0],\n",
    "            y=ld_embedding[:,1],\n",
    "            all_colors = colors,\n",
    "            label = annotations,\n",
    "            indexes = indexes\n",
    "        )\n",
    "    )\n",
    "\n",
    "hover = HoverTool(\n",
    "        tooltips=[\n",
    "            (\"index\", \"$index\"),\n",
    "            (\"(x,y)\", \"($x, $y)\"),\n",
    "        ]\n",
    "    )\n",
    "\n",
    "p = figure(plot_width=700, plot_height=450, tools=[hover],\n",
    "           title=\"Embedding\")\n",
    "glyph = Text(x=\"x\", y=\"y\", text='indexes', x_offset=7, y_offset=7, text_font_size=\"9pt\", text_color=\"grey\")\n",
    "p.circle('x', 'y', fill_color='all_colors', line_color='white', legend='label', size=10, source=source)\n",
    "p.add_glyph(source, glyph)\n",
    "show(p)"
   ]
  },
  {
   "cell_type": "markdown",
   "metadata": {},
   "source": [
    "### Step 3: Obtain Representative Data-point and Select a Single Point"
   ]
  },
  {
   "cell_type": "code",
   "execution_count": 7,
   "metadata": {},
   "outputs": [],
   "source": [
    "rep_points = genericMethods.generate_representative_points(20, X_df, X_transformed, y, ld_embedding)"
   ]
  },
  {
   "cell_type": "code",
   "execution_count": 8,
   "metadata": {},
   "outputs": [
    {
     "name": "stdout",
     "output_type": "stream",
     "text": [
      "Density Based Outliers : [12, 88, 93, 29, 90, 86, 8, 10, 14, 71, 98, 9, 57, 53, 51, 74, 28, 27, 83, 48]\n",
      "Points with Highest Density : [12, 88, 93, 29, 90, 86, 8, 10, 14, 71, 98, 9, 57, 53, 51, 74, 28, 27, 83, 48]\n",
      "Points with Misplaced Neighborhoods : [74, 46, 92, 94, 36, 0, 28, 56, 22, 72, 2, 12, 9, 73, 54, 42, 40, 27, 59, 39]\n",
      "Points Close to Decision Boundary : [20, 72, 39, 87, 69, 23, 95, 98, 73, 54, 26, 16, 59, 25, 29, 6, 10, 27, 41, 99]\n",
      "Cluster Centres : [37, 56]\n"
     ]
    }
   ],
   "source": [
    "Rep_order = [\"Density Based Outliers\", \"Points with Highest Density\", \"Points with Misplaced Neighborhoods\", \"Points Close to Decision Boundary\", \"Cluster Centres\"]\n",
    "\n",
    "for index in range(0,len(rep_points)):\n",
    "    print(Rep_order[index]+\" : \"+''.join(str(rep_points[index])))"
   ]
  },
  {
   "cell_type": "code",
   "execution_count": 9,
   "metadata": {},
   "outputs": [],
   "source": [
    "## user selects an instance\n",
    "\n",
    "data_instance_number = 12"
   ]
  },
  {
   "cell_type": "markdown",
   "metadata": {},
   "source": [
    "### Step 4: Initiate and Execute LAPS Explainer"
   ]
  },
  {
   "cell_type": "markdown",
   "metadata": {},
   "source": [
    "#### a. Initiate Explainer"
   ]
  },
  {
   "cell_type": "code",
   "execution_count": 10,
   "metadata": {},
   "outputs": [],
   "source": [
    "explainer = LapsExplainer(X_df.values,\n",
    "                feature_names=model_features,\n",
    "                class_names=target,\n",
    "                categorical_features=categorical_features,\n",
    "                categorical_names=categorical_names,\n",
    "                discretize_continuous=False,\n",
    "                discretizer='quartile',\n",
    "                random_state=42)"
   ]
  },
  {
   "cell_type": "code",
   "execution_count": 11,
   "metadata": {},
   "outputs": [
    {
     "name": "stdout",
     "output_type": "stream",
     "text": [
      "point | point_embd\n",
      "12     |     12\n",
      "85     |     50\n",
      "50     |     43\n",
      "51     |     85\n",
      "14     |     94\n",
      "69     |     15\n",
      "74     |     2\n",
      "5     |     66\n",
      "43     |     22\n",
      "46     |     89\n",
      "75     |     51\n",
      "71     |     35\n",
      "15     |     46\n",
      "92     |     70\n",
      "40     |     5\n",
      "70     |     38\n",
      "72     |     14\n",
      "31     |     13\n",
      "53     |     79\n",
      "94     |     53\n"
     ]
    }
   ],
   "source": [
    "neighbors, neighbors_embd, oversampled_data, oversampled_data_embd = explainer.generate_perturbed_neighborhood(\n",
    "                                                                                X_df.values,\n",
    "                                                                                X_transformed,\n",
    "                                                                                ld_embedding,\n",
    "                                                                                data_instance_number,\n",
    "                                                                                X_df.values[data_instance_number],\n",
    "                                                                                nbrs=20,\n",
    "                                                                                num_features=5)"
   ]
  },
  {
   "cell_type": "markdown",
   "metadata": {},
   "source": [
    "#### b. Explain the Point in Original Data and in Embedding"
   ]
  },
  {
   "cell_type": "code",
   "execution_count": 12,
   "metadata": {},
   "outputs": [],
   "source": [
    "corr_feat_dist, feature_dict, feature_distance_contribution, dvs_matrix, sorted_indexes = Explanation.explain_point_local(X_df.values[data_instance_number], \n",
    "                                                                                                              neighbors, \n",
    "                                                                                                              oversampled_data, \n",
    "                                                                                                              model_features, \n",
    "                                                                                                              categorical_features, \n",
    "                                                                                                              numeric_features)"
   ]
  },
  {
   "cell_type": "code",
   "execution_count": 13,
   "metadata": {},
   "outputs": [],
   "source": [
    "corr_feat_dist_embd, feature_dict_embd, feature_distance_contribution_embd, dvs_matrix_embd, sorted_indexes_embd = Explanation.explain_point_local(X_df.values[data_instance_number], \n",
    "                                                                                                                                       neighbors_embd, \n",
    "                                                                                                                                       oversampled_data_embd, \n",
    "                                                                                                                                       model_features, \n",
    "                                                                                                                                       categorical_features, \n",
    "                                                                                                                                       numeric_features)"
   ]
  },
  {
   "cell_type": "code",
   "execution_count": 14,
   "metadata": {},
   "outputs": [
    {
     "data": {
      "text/plain": [
       "array([  0,   1,  77,  52,  26,  51,  78, 103, 192, 104, 129, 363, 338,\n",
       "       130, 155, 233, 208, 182, 207, 303, 415, 390, 312, 337, 299, 260,\n",
       "       285, 492, 143, 181, 156, 364, 389, 286, 311, 494, 519, 180, 273,\n",
       "       169, 125,  98, 518, 178,  86,  24, 157, 320, 394, 344, 440, 304,\n",
       "       442, 467, 113, 199, 167, 434, 321,  79, 291, 202, 119,  33, 264,\n",
       "       201, 245,  42, 101, 326, 508, 447, 443, 251, 438,  54, 274, 172,\n",
       "       473, 318, 234, 259,  97, 230, 430,   4, 333, 131, 160, 424, 203,\n",
       "       148, 117, 224, 431, 347, 126, 228, 381, 396,  32,   6, 372, 302,\n",
       "       187, 222, 429, 481, 490, 445,  84, 141,  44, 220,  35, 339, 497,\n",
       "       225,  25, 146, 195,  49, 373, 478, 219,  34, 314, 419,  12,  73,\n",
       "       240,  45, 504,  91, 198,  80, 362, 297, 193, 226, 258, 322, 379,\n",
       "       183, 480, 402, 426, 253, 517, 257,  68, 136, 151, 294, 360, 310,\n",
       "        23, 374,  62, 292, 386, 108,  11, 107, 486, 507, 341, 293, 428,\n",
       "       307, 475, 205, 210, 470, 301, 403, 327, 249, 513,  53, 122, 213,\n",
       "       111, 276, 334, 457, 161, 267,  99, 423,  28, 385,  66, 223,  48,\n",
       "       212, 252, 369, 464, 300, 437, 409, 500, 509,  88, 456,  38,  27,\n",
       "       421, 420, 505, 288, 139, 452, 512, 263, 211,  39, 506, 197,  50,\n",
       "        37, 515, 392,  72, 410, 171, 417,  93, 272,   8, 448,  55, 441,\n",
       "       416, 109, 511, 355, 215, 152,  47, 458, 124,  96, 382, 449, 121,\n",
       "       214, 353, 277, 177, 163, 269, 281, 391, 477, 170, 499, 290, 149,\n",
       "       140,  94, 128,  56, 159, 408, 218,  60, 435, 123, 319, 454, 455,\n",
       "         9,  14,   2,  20, 330, 406,  57, 350, 466, 235, 514, 145, 487,\n",
       "       271, 229,  83, 231, 343, 404,  18,  31, 422, 405, 328, 393, 461,\n",
       "       150,   7, 100, 342,  17, 433, 340, 114, 268,  36, 116, 488,  46,\n",
       "       348, 176, 432, 335, 412, 309, 367, 283, 380, 261, 232,  63, 184,\n",
       "        74, 120, 345, 217,   3, 485, 352, 368, 502, 166, 236, 503, 516,\n",
       "        58,  41, 280,  90, 196, 174, 287, 168,   5, 346, 194, 206, 357,\n",
       "       501, 275, 179, 242, 188, 266, 463, 383,  19, 439, 250, 162, 200,\n",
       "       209, 384, 329, 465, 491,  61, 227, 414,  81,  13,  21, 450, 216,\n",
       "       365, 323, 102, 436, 324, 446, 425, 371, 332, 270,  10, 175, 247,\n",
       "       106, 411, 498, 255, 427, 279, 354, 241, 395, 282, 191,  22, 112,\n",
       "       118, 331, 262, 186, 185, 479, 237, 462, 308, 165, 239, 295, 496,\n",
       "       459, 298, 356, 144, 418, 444, 256, 115,  92, 105, 397, 482,  85,\n",
       "       142, 133, 474, 376, 243, 349,  67, 472, 317, 401, 361,  65, 388,\n",
       "        89, 246, 173,  40, 306,  59, 495,  30, 460, 127, 476,  75, 453,\n",
       "       164, 238, 407, 296, 138, 451, 398,  70, 315, 510,  16,  71,  43,\n",
       "       284, 471,  29,  76, 135, 359, 400, 147, 204, 378,  15,  87, 305,\n",
       "       153, 399, 469, 387, 190, 137, 377, 336,  64, 370, 110, 221, 489,\n",
       "       366, 289, 158, 154, 375, 244, 413, 316, 483, 132, 325, 351,  95,\n",
       "       313, 278, 189, 358, 134, 265, 254, 484,  82, 468, 493, 248,  69])"
      ]
     },
     "execution_count": 14,
     "metadata": {},
     "output_type": "execute_result"
    }
   ],
   "source": [
    "sorted_indexes"
   ]
  },
  {
   "cell_type": "markdown",
   "metadata": {},
   "source": [
    "#### c. Plot Feature Contribution in Original Data and in Embedding"
   ]
  },
  {
   "cell_type": "code",
   "execution_count": 15,
   "metadata": {},
   "outputs": [
    {
     "data": {
      "text/html": [
       "\n",
       "\n",
       "\n",
       "\n",
       "\n",
       "\n",
       "  <div class=\"bk-root\" id=\"3ca1b5eb-629e-4fd4-8ac0-28be223ee689\" data-root-id=\"1092\"></div>\n"
      ]
     },
     "metadata": {},
     "output_type": "display_data"
    },
    {
     "data": {
      "application/javascript": [
       "(function(root) {\n",
       "  function embed_document(root) {\n",
       "    \n",
       "  var docs_json = {\"9f980e97-2097-4bfc-a134-4b88b564cdd4\":{\"roots\":{\"references\":[{\"attributes\":{\"below\":[{\"id\":\"1101\",\"type\":\"CategoricalAxis\"}],\"center\":[{\"id\":\"1104\",\"type\":\"Grid\"},{\"id\":\"1109\",\"type\":\"Grid\"}],\"left\":[{\"id\":\"1105\",\"type\":\"LinearAxis\"}],\"min_border_left\":82,\"plot_height\":380,\"plot_width\":980,\"renderers\":[{\"id\":\"1115\",\"type\":\"GlyphRenderer\"},{\"id\":\"1117\",\"type\":\"GlyphRenderer\"}],\"title\":{\"id\":\"1127\",\"type\":\"Title\"},\"toolbar\":{\"id\":\"1110\",\"type\":\"Toolbar\"},\"toolbar_location\":null,\"x_range\":{\"id\":\"1093\",\"type\":\"FactorRange\"},\"x_scale\":{\"id\":\"1097\",\"type\":\"CategoricalScale\"},\"y_range\":{\"id\":\"1095\",\"type\":\"DataRange1d\"},\"y_scale\":{\"id\":\"1099\",\"type\":\"LinearScale\"}},\"id\":\"1092\",\"subtype\":\"Figure\",\"type\":\"Plot\"},{\"attributes\":{},\"id\":\"1133\",\"type\":\"UnionRenderers\"},{\"attributes\":{\"active_drag\":\"auto\",\"active_inspect\":\"auto\",\"active_multi\":null,\"active_scroll\":\"auto\",\"active_tap\":\"auto\"},\"id\":\"1110\",\"type\":\"Toolbar\"},{\"attributes\":{\"text\":\"\"},\"id\":\"1127\",\"type\":\"Title\"},{\"attributes\":{\"formatter\":{\"id\":\"1128\",\"type\":\"BasicTickFormatter\"},\"major_label_text_font_size\":{\"value\":\"9pt\"},\"major_label_text_font_style\":\"bold\",\"ticker\":{\"id\":\"1106\",\"type\":\"BasicTicker\"}},\"id\":\"1105\",\"type\":\"LinearAxis\"},{\"attributes\":{\"callback\":null,\"end\":0.30063082425950716,\"start\":0.02821396180927807},\"id\":\"1095\",\"type\":\"DataRange1d\"},{\"attributes\":{\"data_source\":{\"id\":\"1091\",\"type\":\"ColumnDataSource\"},\"glyph\":{\"id\":\"1113\",\"type\":\"VBar\"},\"hover_glyph\":null,\"muted_glyph\":null,\"nonselection_glyph\":{\"id\":\"1114\",\"type\":\"VBar\"},\"selection_glyph\":null,\"view\":{\"id\":\"1116\",\"type\":\"CDSView\"}},\"id\":\"1115\",\"type\":\"GlyphRenderer\"},{\"attributes\":{},\"id\":\"1097\",\"type\":\"CategoricalScale\"},{\"attributes\":{\"data_source\":{\"id\":\"1091\",\"type\":\"ColumnDataSource\"},\"glyph\":{\"id\":\"1111\",\"type\":\"Text\"},\"hover_glyph\":null,\"muted_glyph\":null,\"view\":{\"id\":\"1118\",\"type\":\"CDSView\"}},\"id\":\"1117\",\"type\":\"GlyphRenderer\"},{\"attributes\":{\"source\":{\"id\":\"1091\",\"type\":\"ColumnDataSource\"}},\"id\":\"1118\",\"type\":\"CDSView\"},{\"attributes\":{\"dimension\":1,\"ticker\":{\"id\":\"1106\",\"type\":\"BasicTicker\"}},\"id\":\"1109\",\"type\":\"Grid\"},{\"attributes\":{\"source\":{\"id\":\"1091\",\"type\":\"ColumnDataSource\"}},\"id\":\"1116\",\"type\":\"CDSView\"},{\"attributes\":{},\"id\":\"1099\",\"type\":\"LinearScale\"},{\"attributes\":{\"grid_line_color\":null,\"ticker\":{\"id\":\"1102\",\"type\":\"CategoricalTicker\"}},\"id\":\"1104\",\"type\":\"Grid\"},{\"attributes\":{},\"id\":\"1106\",\"type\":\"BasicTicker\"},{\"attributes\":{\"axis_label_text_align\":\"center\",\"formatter\":{\"id\":\"1130\",\"type\":\"CategoricalTickFormatter\"},\"major_label_orientation\":0.4487989505128276,\"major_label_text_font_size\":{\"value\":\"9pt\"},\"major_label_text_font_style\":\"bold\",\"ticker\":{\"id\":\"1102\",\"type\":\"CategoricalTicker\"}},\"id\":\"1101\",\"type\":\"CategoricalAxis\"},{\"attributes\":{\"fill_alpha\":{\"value\":0.1},\"fill_color\":{\"value\":\"#1f77b4\"},\"line_alpha\":{\"value\":0.1},\"line_color\":{\"value\":\"#1f77b4\"},\"top\":{\"field\":\"y_val\"},\"width\":{\"value\":0.7},\"x\":{\"field\":\"x_val\"}},\"id\":\"1114\",\"type\":\"VBar\"},{\"attributes\":{\"callback\":null,\"data\":{\"color\":[\"#2ca25f\",\"#2ca25f\",\"#2ca25f\",\"#2ca25f\",\"#2ca25f\",\"#2ca25f\",\"#2ca25f\",\"#2ca25f\",\"#2ca25f\",\"#2ca25f\",\"#2ca25f\",\"#2ca25f\",\"#2ca25f\",\"#2ca25f\",\"#2ca25f\",\"#2ca25f\",\"#2ca25f\",\"#2ca25f\",\"#2ca25f\",\"#2ca25f\",\"#2ca25f\",\"#2ca25f\",\"#2ca25f\",\"#2ca25f\",\"#2ca25f\",\"#2ca25f\",\"#2ca25f\",\"#2ca25f\",\"#2ca25f\",\"#2ca25f\"],\"labels\":[\"0.26\",\"0.25\",\"0.21\",\"0.29\",\"0.16\",\"0.19\",\"0.21\",\"0.27\",\"0.23\",\"0.18\",\"0.21\",\"0.20\",\"0.21\",\"0.29\",\"0.23\",\"0.22\",\"0.21\",\"0.24\",\"0.24\",\"0.08\",\"0.24\",\"0.24\",\"0.25\",\"0.19\",\"0.22\",\"0.24\",\"0.25\",\"0.24\",\"0.25\",\"0.26\"],\"x_val\":[\"radius_mean\",\"texture_mean\",\"perimeter_mean\",\"area_mean\",\"smoothness_mean\",\"compactness_mean\",\"concavity_mean\",\"concave points_mean\",\"symmetry_mean\",\"fractal_dimension_mean\",\"radius_se\",\"texture_se\",\"perimeter_se\",\"area_se\",\"smoothness_se\",\"compactness_se\",\"concavity_se\",\"concave points_se\",\"symmetry_se\",\"fractal_dimension_se\",\"radius_worst\",\"texture_worst\",\"perimeter_worst\",\"area_worst\",\"smoothness_worst\",\"compactness_worst\",\"concavity_worst\",\"concave points_worst\",\"symmetry_worst\",\"fractal_dimension_worst\"],\"y_offset\":[0.25576565862442796,0.25410430562611647,0.2097079603417254,0.29063082425950715,0.1596004829881766,0.19449885647451393,0.21198937870076137,0.27478410080105203,0.23328376659664488,0.18083141108806908,0.21257137581611432,0.1957037328336206,0.2080733819674502,0.2879648268089908,0.22578071212990652,0.2168452234724695,0.21451424843768996,0.2415062113994448,0.23658637559771947,0.07821396180927807,0.23637694233108617,0.24348935411094255,0.24599432525144507,0.18921867667131398,0.21562905795652304,0.24421017454964117,0.25279596626255646,0.24166404948234427,0.2527121942936934,0.25846965089344504],\"y_val\":[0.25576565862442796,0.25410430562611647,0.2097079603417254,0.29063082425950715,0.1596004829881766,0.19449885647451393,0.21198937870076137,0.27478410080105203,0.23328376659664488,0.18083141108806908,0.21257137581611432,0.1957037328336206,0.2080733819674502,0.2879648268089908,0.22578071212990652,0.2168452234724695,0.21451424843768996,0.2415062113994448,0.23658637559771947,0.07821396180927807,0.23637694233108617,0.24348935411094255,0.24599432525144507,0.18921867667131398,0.21562905795652304,0.24421017454964117,0.25279596626255646,0.24166404948234427,0.2527121942936934,0.25846965089344504]},\"selected\":{\"id\":\"1132\",\"type\":\"Selection\"},\"selection_policy\":{\"id\":\"1133\",\"type\":\"UnionRenderers\"}},\"id\":\"1091\",\"type\":\"ColumnDataSource\"},{\"attributes\":{\"fill_color\":{\"field\":\"color\"},\"line_color\":{\"field\":\"color\"},\"top\":{\"field\":\"y_val\"},\"width\":{\"value\":0.7},\"x\":{\"field\":\"x_val\"}},\"id\":\"1113\",\"type\":\"VBar\"},{\"attributes\":{},\"id\":\"1132\",\"type\":\"Selection\"},{\"attributes\":{},\"id\":\"1130\",\"type\":\"CategoricalTickFormatter\"},{\"attributes\":{\"text\":{\"field\":\"labels\"},\"text_color\":{\"value\":\"black\"},\"text_font_size\":{\"value\":\"9pt\"},\"text_font_style\":\"bold\",\"x\":{\"field\":\"x_val\"},\"x_offset\":{\"value\":-15},\"y\":{\"field\":\"y_val\"},\"y_offset\":{\"field\":\"y_offset\"}},\"id\":\"1111\",\"type\":\"Text\"},{\"attributes\":{},\"id\":\"1128\",\"type\":\"BasicTickFormatter\"},{\"attributes\":{\"callback\":null,\"factors\":[\"radius_mean\",\"texture_mean\",\"perimeter_mean\",\"area_mean\",\"smoothness_mean\",\"compactness_mean\",\"concavity_mean\",\"concave points_mean\",\"symmetry_mean\",\"fractal_dimension_mean\",\"radius_se\",\"texture_se\",\"perimeter_se\",\"area_se\",\"smoothness_se\",\"compactness_se\",\"concavity_se\",\"concave points_se\",\"symmetry_se\",\"fractal_dimension_se\",\"radius_worst\",\"texture_worst\",\"perimeter_worst\",\"area_worst\",\"smoothness_worst\",\"compactness_worst\",\"concavity_worst\",\"concave points_worst\",\"symmetry_worst\",\"fractal_dimension_worst\"]},\"id\":\"1093\",\"type\":\"FactorRange\"},{\"attributes\":{},\"id\":\"1102\",\"type\":\"CategoricalTicker\"}],\"root_ids\":[\"1092\"]},\"title\":\"Bokeh Application\",\"version\":\"1.3.2\"}};\n",
       "  var render_items = [{\"docid\":\"9f980e97-2097-4bfc-a134-4b88b564cdd4\",\"roots\":{\"1092\":\"3ca1b5eb-629e-4fd4-8ac0-28be223ee689\"}}];\n",
       "  root.Bokeh.embed.embed_items_notebook(docs_json, render_items);\n",
       "\n",
       "  }\n",
       "  if (root.Bokeh !== undefined) {\n",
       "    embed_document(root);\n",
       "  } else {\n",
       "    var attempts = 0;\n",
       "    var timer = setInterval(function(root) {\n",
       "      if (root.Bokeh !== undefined) {\n",
       "        embed_document(root);\n",
       "        clearInterval(timer);\n",
       "      }\n",
       "      attempts++;\n",
       "      if (attempts > 100) {\n",
       "        console.log(\"Bokeh: ERROR: Unable to run BokehJS code because BokehJS library is missing\");\n",
       "        clearInterval(timer);\n",
       "      }\n",
       "    }, 10, root)\n",
       "  }\n",
       "})(window);"
      ],
      "application/vnd.bokehjs_exec.v0+json": ""
     },
     "metadata": {
      "application/vnd.bokehjs_exec.v0+json": {
       "id": "1092"
      }
     },
     "output_type": "display_data"
    }
   ],
   "source": [
    "bar_color = []\n",
    "y_offset_val = []\n",
    "label = []\n",
    "for item in feature_dict.values():\n",
    "    label.append(\"{0:.2f}\".format(item))\n",
    "    if item<0:\n",
    "        bar_color.append('#e34a33')\n",
    "        y_offset_val.append(item+15)\n",
    "    else:\n",
    "        bar_color.append('#2ca25f')\n",
    "        y_offset_val.append(item)\n",
    "        \n",
    "        \n",
    "source = ColumnDataSource(\n",
    "        data=dict(\n",
    "            x_val = list(feature_dict.keys()),\n",
    "            y_val = list(feature_dict.values()),\n",
    "            y_offset = y_offset_val,\n",
    "            labels =  label,\n",
    "            color = bar_color\n",
    "        )\n",
    "    )\n",
    "\n",
    "p = figure(x_range=list(feature_dict.keys()), plot_height=380, plot_width=980, toolbar_location=None, tools=\"\")\n",
    "\n",
    "glyph = Text(x=\"x_val\", y=\"y_val\", text='labels', x_offset=-15, y_offset='y_offset', text_font_size=\"9pt\", text_font_style = 'bold', text_color=\"black\")\n",
    "\n",
    "\n",
    "p.vbar(x=\"x_val\", top=\"y_val\", color=\"color\", width=0.7, source=source)\n",
    "p.xaxis.major_label_orientation = math.pi/7\n",
    "p.xaxis.major_label_text_font_size = '9pt'\n",
    "p.yaxis.major_label_text_font_size = '9pt'\n",
    "p.xaxis.major_label_text_font_style = 'bold'\n",
    "p.yaxis.major_label_text_font_style = 'bold'\n",
    "p.min_border_left = 82\n",
    "p.xgrid.grid_line_color = None\n",
    "p.xaxis.axis_label_text_align = 'center'\n",
    "p.y_range.start = np.min(list(feature_dict.values()))-0.05\n",
    "p.y_range.end = np.max(list(feature_dict.values()))+0.01\n",
    "p.add_glyph(source, glyph)\n",
    "#export_png(p, filename=\"Images/Fig4/Feature-Influences-85-Original.png\")\n",
    "show(p)"
   ]
  },
  {
   "cell_type": "code",
   "execution_count": 16,
   "metadata": {},
   "outputs": [
    {
     "data": {
      "text/html": [
       "\n",
       "\n",
       "\n",
       "\n",
       "\n",
       "\n",
       "  <div class=\"bk-root\" id=\"4aeaa439-1c5f-4b9b-82c7-114e57680d46\" data-root-id=\"1183\"></div>\n"
      ]
     },
     "metadata": {},
     "output_type": "display_data"
    },
    {
     "data": {
      "application/javascript": [
       "(function(root) {\n",
       "  function embed_document(root) {\n",
       "    \n",
       "  var docs_json = {\"1cb336bf-e995-4903-97f5-0d3f685521c4\":{\"roots\":{\"references\":[{\"attributes\":{\"below\":[{\"id\":\"1192\",\"type\":\"CategoricalAxis\"}],\"center\":[{\"id\":\"1195\",\"type\":\"Grid\"},{\"id\":\"1200\",\"type\":\"Grid\"}],\"left\":[{\"id\":\"1196\",\"type\":\"LinearAxis\"}],\"min_border_left\":80,\"plot_height\":380,\"plot_width\":980,\"renderers\":[{\"id\":\"1206\",\"type\":\"GlyphRenderer\"},{\"id\":\"1208\",\"type\":\"GlyphRenderer\"}],\"title\":{\"id\":\"1226\",\"type\":\"Title\"},\"toolbar\":{\"id\":\"1201\",\"type\":\"Toolbar\"},\"toolbar_location\":null,\"x_range\":{\"id\":\"1184\",\"type\":\"FactorRange\"},\"x_scale\":{\"id\":\"1188\",\"type\":\"CategoricalScale\"},\"y_range\":{\"id\":\"1186\",\"type\":\"DataRange1d\"},\"y_scale\":{\"id\":\"1190\",\"type\":\"LinearScale\"}},\"id\":\"1183\",\"subtype\":\"Figure\",\"type\":\"Plot\"},{\"attributes\":{\"text\":{\"field\":\"labels\"},\"text_color\":{\"value\":\"black\"},\"text_font_size\":{\"value\":\"9pt\"},\"text_font_style\":\"bold\",\"x\":{\"field\":\"x_val\"},\"x_offset\":{\"value\":-15},\"y\":{\"field\":\"y_val\"},\"y_offset\":{\"field\":\"y_offset\"}},\"id\":\"1202\",\"type\":\"Text\"},{\"attributes\":{},\"id\":\"1190\",\"type\":\"LinearScale\"},{\"attributes\":{\"callback\":null,\"factors\":[\"radius_mean\",\"texture_mean\",\"perimeter_mean\",\"area_mean\",\"smoothness_mean\",\"compactness_mean\",\"concavity_mean\",\"concave points_mean\",\"symmetry_mean\",\"fractal_dimension_mean\",\"radius_se\",\"texture_se\",\"perimeter_se\",\"area_se\",\"smoothness_se\",\"compactness_se\",\"concavity_se\",\"concave points_se\",\"symmetry_se\",\"fractal_dimension_se\",\"radius_worst\",\"texture_worst\",\"perimeter_worst\",\"area_worst\",\"smoothness_worst\",\"compactness_worst\",\"concavity_worst\",\"concave points_worst\",\"symmetry_worst\",\"fractal_dimension_worst\"]},\"id\":\"1184\",\"type\":\"FactorRange\"},{\"attributes\":{\"source\":{\"id\":\"1182\",\"type\":\"ColumnDataSource\"}},\"id\":\"1207\",\"type\":\"CDSView\"},{\"attributes\":{\"fill_color\":{\"field\":\"color\"},\"line_color\":{\"field\":\"color\"},\"top\":{\"field\":\"y_val\"},\"width\":{\"value\":0.7},\"x\":{\"field\":\"x_val\"}},\"id\":\"1204\",\"type\":\"VBar\"},{\"attributes\":{\"fill_alpha\":{\"value\":0.1},\"fill_color\":{\"value\":\"#1f77b4\"},\"line_alpha\":{\"value\":0.1},\"line_color\":{\"value\":\"#1f77b4\"},\"top\":{\"field\":\"y_val\"},\"width\":{\"value\":0.7},\"x\":{\"field\":\"x_val\"}},\"id\":\"1205\",\"type\":\"VBar\"},{\"attributes\":{},\"id\":\"1227\",\"type\":\"BasicTickFormatter\"},{\"attributes\":{},\"id\":\"1197\",\"type\":\"BasicTicker\"},{\"attributes\":{},\"id\":\"1193\",\"type\":\"CategoricalTicker\"},{\"attributes\":{\"formatter\":{\"id\":\"1227\",\"type\":\"BasicTickFormatter\"},\"major_label_text_font_size\":{\"value\":\"9pt\"},\"major_label_text_font_style\":\"bold\",\"ticker\":{\"id\":\"1197\",\"type\":\"BasicTicker\"}},\"id\":\"1196\",\"type\":\"LinearAxis\"},{\"attributes\":{},\"id\":\"1229\",\"type\":\"CategoricalTickFormatter\"},{\"attributes\":{\"callback\":null,\"data\":{\"color\":[\"#2ca25f\",\"#2ca25f\",\"#2ca25f\",\"#2ca25f\",\"#2ca25f\",\"#2ca25f\",\"#2ca25f\",\"#2ca25f\",\"#2ca25f\",\"#2ca25f\",\"#2ca25f\",\"#2ca25f\",\"#2ca25f\",\"#2ca25f\",\"#2ca25f\",\"#2ca25f\",\"#2ca25f\",\"#2ca25f\",\"#2ca25f\",\"#2ca25f\",\"#2ca25f\",\"#2ca25f\",\"#2ca25f\",\"#2ca25f\",\"#2ca25f\",\"#2ca25f\",\"#2ca25f\",\"#2ca25f\",\"#2ca25f\",\"#2ca25f\"],\"labels\":[\"0.24\",\"0.17\",\"0.24\",\"0.25\",\"0.19\",\"0.20\",\"0.20\",\"0.22\",\"0.19\",\"0.14\",\"0.22\",\"0.19\",\"0.18\",\"0.26\",\"0.20\",\"0.20\",\"0.16\",\"0.19\",\"0.17\",\"0.12\",\"0.24\",\"0.21\",\"0.18\",\"0.20\",\"0.19\",\"0.17\",\"0.18\",\"0.20\",\"0.19\",\"0.15\"],\"x_val\":[\"radius_mean\",\"texture_mean\",\"perimeter_mean\",\"area_mean\",\"smoothness_mean\",\"compactness_mean\",\"concavity_mean\",\"concave points_mean\",\"symmetry_mean\",\"fractal_dimension_mean\",\"radius_se\",\"texture_se\",\"perimeter_se\",\"area_se\",\"smoothness_se\",\"compactness_se\",\"concavity_se\",\"concave points_se\",\"symmetry_se\",\"fractal_dimension_se\",\"radius_worst\",\"texture_worst\",\"perimeter_worst\",\"area_worst\",\"smoothness_worst\",\"compactness_worst\",\"concavity_worst\",\"concave points_worst\",\"symmetry_worst\",\"fractal_dimension_worst\"],\"y_offset\":[0.24124559452256844,0.16545166510201925,0.23802757909003955,0.25189599265626234,0.18895129698602556,0.19978975992391632,0.19877001193385593,0.22068623416398092,0.18921098420407056,0.135114834608061,0.22187290078412894,0.1881089554399899,0.1826127975568814,0.2616562698440439,0.20385086868582936,0.20042772185352348,0.16261488324242496,0.1903202499328751,0.1670628028091746,0.11815426668491398,0.2370789758119547,0.21280111547126357,0.17687396083703008,0.20474029543619068,0.18982290353509162,0.1709225174571248,0.17984450593244916,0.19620822393140316,0.19318504979291787,0.15418465912007448],\"y_val\":[0.24124559452256844,0.16545166510201925,0.23802757909003955,0.25189599265626234,0.18895129698602556,0.19978975992391632,0.19877001193385593,0.22068623416398092,0.18921098420407056,0.135114834608061,0.22187290078412894,0.1881089554399899,0.1826127975568814,0.2616562698440439,0.20385086868582936,0.20042772185352348,0.16261488324242496,0.1903202499328751,0.1670628028091746,0.11815426668491398,0.2370789758119547,0.21280111547126357,0.17687396083703008,0.20474029543619068,0.18982290353509162,0.1709225174571248,0.17984450593244916,0.19620822393140316,0.19318504979291787,0.15418465912007448]},\"selected\":{\"id\":\"1231\",\"type\":\"Selection\"},\"selection_policy\":{\"id\":\"1232\",\"type\":\"UnionRenderers\"}},\"id\":\"1182\",\"type\":\"ColumnDataSource\"},{\"attributes\":{\"dimension\":1,\"ticker\":{\"id\":\"1197\",\"type\":\"BasicTicker\"}},\"id\":\"1200\",\"type\":\"Grid\"},{\"attributes\":{},\"id\":\"1188\",\"type\":\"CategoricalScale\"},{\"attributes\":{\"data_source\":{\"id\":\"1182\",\"type\":\"ColumnDataSource\"},\"glyph\":{\"id\":\"1202\",\"type\":\"Text\"},\"hover_glyph\":null,\"muted_glyph\":null,\"view\":{\"id\":\"1209\",\"type\":\"CDSView\"}},\"id\":\"1208\",\"type\":\"GlyphRenderer\"},{\"attributes\":{},\"id\":\"1231\",\"type\":\"Selection\"},{\"attributes\":{\"source\":{\"id\":\"1182\",\"type\":\"ColumnDataSource\"}},\"id\":\"1209\",\"type\":\"CDSView\"},{\"attributes\":{\"active_drag\":\"auto\",\"active_inspect\":\"auto\",\"active_multi\":null,\"active_scroll\":\"auto\",\"active_tap\":\"auto\"},\"id\":\"1201\",\"type\":\"Toolbar\"},{\"attributes\":{\"text\":\"\"},\"id\":\"1226\",\"type\":\"Title\"},{\"attributes\":{\"grid_line_color\":null,\"ticker\":{\"id\":\"1193\",\"type\":\"CategoricalTicker\"}},\"id\":\"1195\",\"type\":\"Grid\"},{\"attributes\":{\"callback\":null,\"end\":0.30063082425950716,\"start\":0.02821396180927807},\"id\":\"1186\",\"type\":\"DataRange1d\"},{\"attributes\":{\"data_source\":{\"id\":\"1182\",\"type\":\"ColumnDataSource\"},\"glyph\":{\"id\":\"1204\",\"type\":\"VBar\"},\"hover_glyph\":null,\"muted_glyph\":null,\"nonselection_glyph\":{\"id\":\"1205\",\"type\":\"VBar\"},\"selection_glyph\":null,\"view\":{\"id\":\"1207\",\"type\":\"CDSView\"}},\"id\":\"1206\",\"type\":\"GlyphRenderer\"},{\"attributes\":{\"axis_label_text_align\":\"center\",\"formatter\":{\"id\":\"1229\",\"type\":\"CategoricalTickFormatter\"},\"major_label_orientation\":0.4487989505128276,\"major_label_text_font_size\":{\"value\":\"9pt\"},\"major_label_text_font_style\":\"bold\",\"ticker\":{\"id\":\"1193\",\"type\":\"CategoricalTicker\"}},\"id\":\"1192\",\"type\":\"CategoricalAxis\"},{\"attributes\":{},\"id\":\"1232\",\"type\":\"UnionRenderers\"}],\"root_ids\":[\"1183\"]},\"title\":\"Bokeh Application\",\"version\":\"1.3.2\"}};\n",
       "  var render_items = [{\"docid\":\"1cb336bf-e995-4903-97f5-0d3f685521c4\",\"roots\":{\"1183\":\"4aeaa439-1c5f-4b9b-82c7-114e57680d46\"}}];\n",
       "  root.Bokeh.embed.embed_items_notebook(docs_json, render_items);\n",
       "\n",
       "  }\n",
       "  if (root.Bokeh !== undefined) {\n",
       "    embed_document(root);\n",
       "  } else {\n",
       "    var attempts = 0;\n",
       "    var timer = setInterval(function(root) {\n",
       "      if (root.Bokeh !== undefined) {\n",
       "        embed_document(root);\n",
       "        clearInterval(timer);\n",
       "      }\n",
       "      attempts++;\n",
       "      if (attempts > 100) {\n",
       "        console.log(\"Bokeh: ERROR: Unable to run BokehJS code because BokehJS library is missing\");\n",
       "        clearInterval(timer);\n",
       "      }\n",
       "    }, 10, root)\n",
       "  }\n",
       "})(window);"
      ],
      "application/vnd.bokehjs_exec.v0+json": ""
     },
     "metadata": {
      "application/vnd.bokehjs_exec.v0+json": {
       "id": "1183"
      }
     },
     "output_type": "display_data"
    }
   ],
   "source": [
    "bar_color = []\n",
    "y_offset_val = []\n",
    "label = []\n",
    "for item in feature_dict_embd.values():\n",
    "    label.append(\"{0:.2f}\".format(item))\n",
    "    if item<0:\n",
    "        bar_color.append('#e34a33')\n",
    "        y_offset_val.append(item+15)\n",
    "    else:\n",
    "        bar_color.append('#2ca25f')\n",
    "        y_offset_val.append(item)\n",
    "        \n",
    "        \n",
    "source = ColumnDataSource(\n",
    "        data=dict(\n",
    "            x_val = list(feature_dict_embd.keys()),\n",
    "            y_val = list(feature_dict_embd.values()),\n",
    "            y_offset = y_offset_val,\n",
    "            labels =  label,\n",
    "            color = bar_color\n",
    "        )\n",
    "    )\n",
    "\n",
    "p = figure(x_range=list(feature_dict_embd.keys()), plot_height=380, plot_width=980, toolbar_location=None, tools=\"\")\n",
    "\n",
    "glyph = Text(x=\"x_val\", y=\"y_val\", text='labels', x_offset=-15, y_offset='y_offset', text_font_size=\"9pt\", text_font_style = 'bold', text_color=\"black\")\n",
    "\n",
    "\n",
    "p.vbar(x=\"x_val\", top=\"y_val\", color=\"color\", width=0.7, source=source)\n",
    "p.xaxis.major_label_orientation = math.pi/7\n",
    "p.xaxis.major_label_text_font_size = '9pt'\n",
    "p.yaxis.major_label_text_font_size = '9pt'\n",
    "p.xaxis.major_label_text_font_style = 'bold'\n",
    "p.yaxis.major_label_text_font_style = 'bold'\n",
    "p.min_border_left = 80\n",
    "p.xgrid.grid_line_color = None\n",
    "p.xaxis.axis_label_text_align = 'center'\n",
    "p.y_range.start = np.min(list(feature_dict.values()))-0.05\n",
    "p.y_range.end = np.max(list(feature_dict.values()))+0.01\n",
    "p.add_glyph(source, glyph)\n",
    "#export_png(p, filename=\"Images/Fig4/Feature-Influences-85-Embedding.png\")\n",
    "show(p)"
   ]
  },
  {
   "cell_type": "markdown",
   "metadata": {},
   "source": [
    "#### d. Calculate Local Divergence"
   ]
  },
  {
   "cell_type": "code",
   "execution_count": 17,
   "metadata": {},
   "outputs": [],
   "source": [
    "components, divergence = Explanation.compute_local_divergence(corr_feat_dist, corr_feat_dist_embd, neighbors, neighbors_embd)"
   ]
  },
  {
   "cell_type": "code",
   "execution_count": 18,
   "metadata": {},
   "outputs": [
    {
     "name": "stdout",
     "output_type": "stream",
     "text": [
      "Discrepancy in Feature Influence: 0.795386355756614\n",
      "Discrepancy in Neighborhood Content: 0.4\n",
      "Discrepancy in Neighborhood Order: 0.95\n"
     ]
    }
   ],
   "source": [
    "components = components.split(\",\")\n",
    "\n",
    "print(\"Discrepancy in Feature Influence:\", components[0])\n",
    "print(\"Discrepancy in Neighborhood Content:\", components[1])\n",
    "print(\"Discrepancy in Neighborhood Order:\", components[2])\n",
    "    "
   ]
  },
  {
   "cell_type": "code",
   "execution_count": 19,
   "metadata": {},
   "outputs": [
    {
     "name": "stdout",
     "output_type": "stream",
     "text": [
      "Overall Divergence:  0.7151287852522046\n"
     ]
    }
   ],
   "source": [
    "print(\"Overall Divergence: \", divergence)"
   ]
  },
  {
   "cell_type": "code",
   "execution_count": null,
   "metadata": {},
   "outputs": [],
   "source": []
  }
 ],
 "metadata": {
  "kernelspec": {
   "display_name": "Python 3",
   "language": "python",
   "name": "python3"
  },
  "language_info": {
   "codemirror_mode": {
    "name": "ipython",
    "version": 3
   },
   "file_extension": ".py",
   "mimetype": "text/x-python",
   "name": "python",
   "nbconvert_exporter": "python",
   "pygments_lexer": "ipython3",
   "version": "3.8.8"
  }
 },
 "nbformat": 4,
 "nbformat_minor": 4
}
